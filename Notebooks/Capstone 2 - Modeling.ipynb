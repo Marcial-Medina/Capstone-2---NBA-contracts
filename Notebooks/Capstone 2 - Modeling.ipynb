{
 "cells": [
  {
   "cell_type": "markdown",
   "metadata": {},
   "source": [
    "# Imports"
   ]
  },
  {
   "cell_type": "code",
   "execution_count": 1,
   "metadata": {},
   "outputs": [],
   "source": [
    "import pandas as pd\n",
    "import numpy as np\n",
    "import matplotlib.pyplot as plt\n",
    "%matplotlib inline\n",
    "import seaborn as sns\n",
    "sns.set()\n",
    "from sklearn.pipeline import Pipeline\n",
    "from sklearn.model_selection import GridSearchCV\n",
    "from sklearn.dummy import DummyRegressor\n",
    "from sklearn.linear_model import LinearRegression, Ridge, Lasso, ElasticNet\n",
    "from sklearn.tree import DecisionTreeRegressor\n",
    "from sklearn.ensemble import RandomForestRegressor, GradientBoostingRegressor, AdaBoostRegressor\n",
    "from sklearn.metrics import r2_score, mean_squared_error, mean_absolute_error\n",
    "from sklearn.preprocessing import StandardScaler\n",
    "from sklearn.tree import export_graphviz\n",
    "import graphviz"
   ]
  },
  {
   "cell_type": "markdown",
   "metadata": {},
   "source": [
    "# Load the data"
   ]
  },
  {
   "cell_type": "code",
   "execution_count": 2,
   "metadata": {},
   "outputs": [],
   "source": [
    "X_train = pd.read_csv('../data/X_train.csv', index_col=0)\n",
    "y_train = pd.read_csv('../data/y_train.csv', index_col=0)\n",
    "X_test = pd.read_csv('../data/X_test.csv', index_col=0)\n",
    "y_test = pd.read_csv('../data/y_test.csv', index_col=0)"
   ]
  },
  {
   "cell_type": "code",
   "execution_count": 3,
   "metadata": {},
   "outputs": [
    {
     "name": "stdout",
     "output_type": "stream",
     "text": [
      "(110, 15) (110, 1) (48, 15) (48, 1)\n"
     ]
    }
   ],
   "source": [
    "print(X_train.shape, y_train.shape, X_test.shape, y_test.shape)"
   ]
  },
  {
   "cell_type": "markdown",
   "metadata": {},
   "source": [
    "# Adjusted R^2 function"
   ]
  },
  {
   "cell_type": "markdown",
   "metadata": {},
   "source": [
    "Here I will define a function that calculates the adjusted R^2 metric when it is passed the value of an R^2 score and the n and p values. The n value for the training data is equal to the n value for the testing data. The same goes for the p values of the training and testing data. Despite this, I define two seperate n values and two seperate p values."
   ]
  },
  {
   "cell_type": "code",
   "execution_count": 4,
   "metadata": {},
   "outputs": [],
   "source": [
    "# adjusted R^2: takes into consideration the model's degrees of freedom (amount of features)\n",
    "\n",
    "# n is the number of labels in the data\n",
    "n_train = len(X_train)\n",
    "n_test = len(X_test)\n",
    "\n",
    "# p is the number of features in the data (both equal)\n",
    "p_train = len(X_train.columns)\n",
    "p_test = len(X_test.columns)\n",
    "\n",
    "# function to calculate adjusted R^2\n",
    "def adjusted_r2(r2, n, p):\n",
    "    adj_r_squared = 1-((1-r2)*((n-1)/(n-p-1)))\n",
    "    return adj_r_squared"
   ]
  },
  {
   "cell_type": "markdown",
   "metadata": {},
   "source": [
    "# Baseline performance model"
   ]
  },
  {
   "cell_type": "markdown",
   "metadata": {},
   "source": [
    "I will start off by first using the mean of the salaries in the training data as a predictor and determining how good this \"model\" is at predicting."
   ]
  },
  {
   "cell_type": "code",
   "execution_count": 5,
   "metadata": {},
   "outputs": [
    {
     "name": "stdout",
     "output_type": "stream",
     "text": [
      "Mean of salaries in training data: [[13713664.98878788]]\n"
     ]
    }
   ],
   "source": [
    "dummy_mean_reg = DummyRegressor(strategy='mean')\n",
    "dummy_mean_reg.fit(X_train, y_train)\n",
    "\n",
    "# this is equal to the mean of the salaries in the training data\n",
    "mean_salary = dummy_mean_reg.constant_\n",
    "print('Mean of salaries in training data:', mean_salary)"
   ]
  },
  {
   "cell_type": "code",
   "execution_count": 6,
   "metadata": {},
   "outputs": [
    {
     "name": "stdout",
     "output_type": "stream",
     "text": [
      "R^2 (actual and predicted training salaries): 0.0\n",
      "R^2 (actual and predicted testing salaries): -0.0011446221634241471\n"
     ]
    }
   ],
   "source": [
    "y_pred_train = dummy_mean_reg.predict(X_train)\n",
    "y_pred_test = dummy_mean_reg.predict(X_test)\n",
    "\n",
    "# R^2: measure of the proportion of variance in the dependent variable (salary) that is predicted by the model\n",
    "r_squared_train = r2_score(y_train, y_pred_train)\n",
    "print('R^2 (actual and predicted training salaries):', r_squared_train)\n",
    "\n",
    "r_squared_test = r2_score(y_test, y_pred_test)\n",
    "print('R^2 (actual and predicted testing salaries):', r_squared_test)"
   ]
  },
  {
   "cell_type": "code",
   "execution_count": 7,
   "metadata": {},
   "outputs": [
    {
     "name": "stdout",
     "output_type": "stream",
     "text": [
      "Adjusted R^2 (actual and predicted training data): -0.15957446808510634\n",
      "Adjusted R^2 (actual and predicted testing data): -0.47043116380252914\n"
     ]
    }
   ],
   "source": [
    "# adjusted R^2\n",
    "adj_r_squared_train = adjusted_r2(r_squared_train, n_train, p_train)\n",
    "print('Adjusted R^2 (actual and predicted training data):', adj_r_squared_train)\n",
    "\n",
    "adj_r_squared_test = adjusted_r2(r_squared_test, n_test, p_test)\n",
    "print('Adjusted R^2 (actual and predicted testing data):', adj_r_squared_test)"
   ]
  },
  {
   "cell_type": "code",
   "execution_count": 8,
   "metadata": {},
   "outputs": [
    {
     "name": "stdout",
     "output_type": "stream",
     "text": [
      "Mean absolute error (actual and predicted training salaries): 7067479.767663912\n",
      "Mean absolute error (actual and predicted testing salaries): 6951335.557159091\n"
     ]
    }
   ],
   "source": [
    "# MAE: average of the absolute errors\n",
    "MAE_train = mean_absolute_error(y_train, y_pred_train)\n",
    "print('Mean absolute error (actual and predicted training salaries):', MAE_train)\n",
    "\n",
    "MAE_test = mean_absolute_error(y_test, y_pred_test)\n",
    "print('Mean absolute error (actual and predicted testing salaries):', MAE_test)"
   ]
  },
  {
   "cell_type": "code",
   "execution_count": 9,
   "metadata": {},
   "outputs": [
    {
     "name": "stdout",
     "output_type": "stream",
     "text": [
      "Root mean squared error (actual and predicted training salaries): 8290153.791310435\n",
      "Root mean squared error (actual and predicted testing salaries): 8507852.202054001\n"
     ]
    }
   ],
   "source": [
    "# RMSE: square root of average of the square of the errors\n",
    "RMSE_train = mean_squared_error(y_train, y_pred_train, squared=False)\n",
    "print('Root mean squared error (actual and predicted training salaries):', RMSE_train)\n",
    "\n",
    "RMSE_test = mean_squared_error(y_test, y_pred_test, squared=False)\n",
    "print('Root mean squared error (actual and predicted testing salaries):', RMSE_test)"
   ]
  },
  {
   "cell_type": "markdown",
   "metadata": {},
   "source": [
    "The R^2 score between the actual training salaries and the predicted training salaries, which is just the mean of the actual training salaries, is zero. This makes sense. However, the R^2 between the actual testing salaries and the predicted testing salaries is below zero. This also makes sense since R^2 essentially compares the model its scoring with a mean model. As a result of these two R^2 scores being zero and negative, respectively, the adjusted R^2 scores are negative.\n",
    "\n",
    "As for mean absolute errors indicate that the dummy mean model was off by about \\\\$7 million while the root mean squared errors indicate that the model was of by over \\\\$8 million. These are huge given that the average salary of players in the training group is \\\\$13 million.\n",
    "\n",
    "So it turns out that this model, which is just to guess that the salaries of the test group are the mean of the salaries in the train group, is not accurate at all."
   ]
  },
  {
   "cell_type": "markdown",
   "metadata": {},
   "source": [
    "# Linear regression models"
   ]
  },
  {
   "cell_type": "markdown",
   "metadata": {},
   "source": [
    "### sklearn's Linear Regression model"
   ]
  },
  {
   "cell_type": "code",
   "execution_count": 10,
   "metadata": {},
   "outputs": [
    {
     "name": "stdout",
     "output_type": "stream",
     "text": [
      "R^2 (actual and predicted training salaries): 0.6214726671720142\n",
      "R^2 (actual and predicted testing salaries): 0.3892925341343615\n"
     ]
    }
   ],
   "source": [
    "lin_reg = LinearRegression(normalize=False, n_jobs=-1)\n",
    "lin_reg.fit(X_train, y_train)\n",
    "\n",
    "y_pred_train = lin_reg.predict(X_train)\n",
    "y_pred_test = lin_reg.predict(X_test)\n",
    "\n",
    "r_squared_train = r2_score(y_train, y_pred_train)\n",
    "print('R^2 (actual and predicted training salaries):', r_squared_train)\n",
    "\n",
    "r_squared_test = r2_score(y_test, y_pred_test)\n",
    "print('R^2 (actual and predicted testing salaries):', r_squared_test)"
   ]
  },
  {
   "cell_type": "code",
   "execution_count": 11,
   "metadata": {},
   "outputs": [
    {
     "name": "stdout",
     "output_type": "stream",
     "text": [
      "Adjusted R^2 (actual and predicted training data): 0.5610693693803144\n",
      "Adjusted R^2 (actual and predicted testing data): 0.10302340950984346\n"
     ]
    }
   ],
   "source": [
    "# adjusted R^2\n",
    "adj_r_squared_train = adjusted_r2(r_squared_train, n_train, p_train)\n",
    "print('Adjusted R^2 (actual and predicted training data):', adj_r_squared_train)\n",
    "\n",
    "adj_r_squared_test = adjusted_r2(r_squared_test, n_test, p_test)\n",
    "print('Adjusted R^2 (actual and predicted testing data):', adj_r_squared_test)"
   ]
  },
  {
   "cell_type": "code",
   "execution_count": 12,
   "metadata": {},
   "outputs": [
    {
     "name": "stdout",
     "output_type": "stream",
     "text": [
      "Mean absolute error (actual and predicted training salaries): 3993532.9918702403\n",
      "Mean absolute error (actual and predicted testing salaries): 4959487.833597617\n"
     ]
    }
   ],
   "source": [
    "MAE_train = mean_absolute_error(y_train, y_pred_train)\n",
    "print('Mean absolute error (actual and predicted training salaries):', MAE_train)\n",
    "\n",
    "MAE_test = mean_absolute_error(y_test, y_pred_test)\n",
    "print('Mean absolute error (actual and predicted testing salaries):', MAE_test)"
   ]
  },
  {
   "cell_type": "code",
   "execution_count": 13,
   "metadata": {},
   "outputs": [
    {
     "name": "stdout",
     "output_type": "stream",
     "text": [
      "Root mean squared error (actual and predicted training salaries): 5100481.886511693\n",
      "Root mean squared error (actual and predicted testing salaries): 6644895.293701198\n"
     ]
    }
   ],
   "source": [
    "RMSE_train = mean_squared_error(y_train, y_pred_train, squared=False)\n",
    "print('Root mean squared error (actual and predicted training salaries):', RMSE_train)\n",
    "\n",
    "RMSE_test = mean_squared_error(y_test, y_pred_test, squared=False)\n",
    "print('Root mean squared error (actual and predicted testing salaries):', RMSE_test)"
   ]
  },
  {
   "cell_type": "markdown",
   "metadata": {},
   "source": [
    "The linear regression model performed much better than the dummy regression model in all three metrics, as expected. The R^2 for the test salaries was approximately 0.39, which is certainly better but it could be improved. The adjusted R^2, which takes into consideration the model's degrees of freedom was approximately 0.1. This confirms that the model could use improvement.\n",
    "\n",
    "The MAE and RMSE for the testing salaries were approximately \\\\$5 million and \\\\$6.6 million respectively. This is much better than the mean model but that is still a lot of money to be off by."
   ]
  },
  {
   "cell_type": "code",
   "execution_count": 14,
   "metadata": {},
   "outputs": [
    {
     "data": {
      "image/png": "[encoded data removed]",
      "text/plain": [
       "<Figure size 432x288 with 1 Axes>"
      ]
     },
     "metadata": {},
     "output_type": "display_data"
    }
   ],
   "source": [
    "plt.scatter(y_test, y_pred_test)\n",
    "plt.xlabel('Actual test salaries')\n",
    "plt.ylabel('Predicted test salaries')\n",
    "plt.show()"
   ]
  },
  {
   "cell_type": "markdown",
   "metadata": {},
   "source": [
    "This scatter plot shows how well the predictions match the actual results. The x-axis represents the salaries in the test group while the y-represents the predicted salaries of the test group.\n",
    "\n",
    "There is certainly a positive correlation between the two groups. However, there are a large set of salaries that were predicted to be much lower than what they actually are. For example, in the far right of the graph there is a point that represents an actual salary of about \\\\$31 million that was predicted to be just shy of \\\\$15 million.\n",
    "\n",
    "There was also one salary that was predicted to be much higher than it actually was. The point on the top left was predicted to be about \\\\$24 million when it was actually about \\\\$1 million. This is a massive difference."
   ]
  },
  {
   "cell_type": "markdown",
   "metadata": {},
   "source": [
    "### sklearn's Linear Regression model on scaled data"
   ]
  },
  {
   "cell_type": "code",
   "execution_count": 15,
   "metadata": {},
   "outputs": [
    {
     "name": "stdout",
     "output_type": "stream",
     "text": [
      "R^2 (actual and predicted training salaries): 0.6214726671720141\n",
      "R^2 (actual and predicted testing salaries): 0.3892925341343627\n"
     ]
    }
   ],
   "source": [
    "# scale the data\n",
    "scaler = StandardScaler()\n",
    "scaler.fit(X_train)\n",
    "X_train_scaled = scaler.transform(X_train)\n",
    "X_test_scaled = scaler.transform(X_test)\n",
    "\n",
    "# linear regression model\n",
    "lin_reg = LinearRegression(normalize=False, n_jobs=-1)\n",
    "lin_reg.fit(X_train_scaled, y_train)\n",
    "\n",
    "# predicted salaries\n",
    "y_pred_train = lin_reg.predict(X_train_scaled)\n",
    "y_pred_test = lin_reg.predict(X_test_scaled)\n",
    "\n",
    "r_squared_train = r2_score(y_train, y_pred_train)\n",
    "print('R^2 (actual and predicted training salaries):', r_squared_train)\n",
    "\n",
    "r_squared_test = r2_score(y_test, y_pred_test)\n",
    "print('R^2 (actual and predicted testing salaries):', r_squared_test)"
   ]
  },
  {
   "cell_type": "code",
   "execution_count": 16,
   "metadata": {},
   "outputs": [
    {
     "name": "stdout",
     "output_type": "stream",
     "text": [
      "Adjusted R^2 (actual and predicted training data): 0.5610693693803143\n",
      "Adjusted R^2 (actual and predicted testing data): 0.10302340950984523\n"
     ]
    }
   ],
   "source": [
    "# n is the number of labels in the data\n",
    "n_train = len(X_train)\n",
    "n_test = len(X_test)\n",
    "\n",
    "# p is the number of features in the data (both equal)\n",
    "p_train = len(X_train.columns)\n",
    "p_test = len(X_test.columns)\n",
    "\n",
    "# adjusted R^2\n",
    "adj_r_squared_train = adjusted_r2(r_squared_train, n_train, p_train)\n",
    "print('Adjusted R^2 (actual and predicted training data):', adj_r_squared_train)\n",
    "\n",
    "adj_r_squared_test = adjusted_r2(r_squared_test, n_test, p_test)\n",
    "print('Adjusted R^2 (actual and predicted testing data):', adj_r_squared_test)"
   ]
  },
  {
   "cell_type": "code",
   "execution_count": 17,
   "metadata": {},
   "outputs": [
    {
     "name": "stdout",
     "output_type": "stream",
     "text": [
      "Mean absolute error (actual and predicted training salaries): 3993532.9918702412\n",
      "Mean absolute error (actual and predicted testing salaries): 4959487.833597624\n"
     ]
    }
   ],
   "source": [
    "MAE_train = mean_absolute_error(y_train, y_pred_train)\n",
    "print('Mean absolute error (actual and predicted training salaries):', MAE_train)\n",
    "\n",
    "MAE_test = mean_absolute_error(y_test, y_pred_test)\n",
    "print('Mean absolute error (actual and predicted testing salaries):', MAE_test)"
   ]
  },
  {
   "cell_type": "code",
   "execution_count": 18,
   "metadata": {},
   "outputs": [
    {
     "name": "stdout",
     "output_type": "stream",
     "text": [
      "Root mean squared error (actual and predicted training salaries): 5100481.886511694\n",
      "Root mean squared error (actual and predicted testing salaries): 6644895.293701191\n"
     ]
    }
   ],
   "source": [
    "RMSE_train = mean_squared_error(y_train, y_pred_train, squared=False)\n",
    "print('Root mean squared error (actual and predicted training salaries):', RMSE_train)\n",
    "\n",
    "RMSE_test = mean_squared_error(y_test, y_pred_test, squared=False)\n",
    "print('Root mean squared error (actual and predicted testing salaries):', RMSE_test)"
   ]
  },
  {
   "cell_type": "markdown",
   "metadata": {},
   "source": [
    "Scaling the data using StandardScaled before using the same Linear Regression model produced negligible differences or no differences at all in for every metric."
   ]
  },
  {
   "cell_type": "markdown",
   "metadata": {},
   "source": [
    "### sklearn's Ridge regression model with scaled data using GridSearchCV"
   ]
  },
  {
   "cell_type": "code",
   "execution_count": 19,
   "metadata": {},
   "outputs": [
    {
     "name": "stdout",
     "output_type": "stream",
     "text": [
      "Best alpha: 13.9\n",
      "R^2 of best alpha: 0.4327860264632486\n"
     ]
    }
   ],
   "source": [
    "# scaling the data\n",
    "scaler = StandardScaler()\n",
    "scaler.fit(X_train)\n",
    "X_train_scaled = scaler.transform(X_train)\n",
    "X_test_scaled = scaler.transform(X_test)\n",
    "\n",
    "# ridge regression model\n",
    "ridge = Ridge()\n",
    "\n",
    "# alpha hyperparameter\n",
    "param_grid = {'alpha':np.arange(0,100,0.1)}\n",
    "ridge_cv = GridSearchCV(ridge, param_grid=param_grid, cv=5, n_jobs=-1)\n",
    "ridge_cv.fit(X_train_scaled, y_train)\n",
    "\n",
    "best_alpha = ridge_cv.best_params_['alpha']\n",
    "best_score = ridge_cv.best_score_\n",
    "\n",
    "print('Best alpha:', best_alpha)\n",
    "print('R^2 of best alpha:', best_score)"
   ]
  },
  {
   "cell_type": "markdown",
   "metadata": {},
   "source": [
    "GridSearchCV determined that the alpha hyperparameter that allowed the ridge regression model to perform the best was alpha=13.9. This model had an R^2 of about 0.433 for the training data. The linear regression model performed better than this model with the training data."
   ]
  },
  {
   "cell_type": "code",
   "execution_count": 20,
   "metadata": {},
   "outputs": [
    {
     "data": {
      "image/png": "[encoded data removed]",
      "text/plain": [
       "<Figure size 432x288 with 1 Axes>"
      ]
     },
     "metadata": {},
     "output_type": "display_data"
    }
   ],
   "source": [
    "ridge = Ridge(alpha=13.9)\n",
    "\n",
    "features = X_train.columns\n",
    "ridge_coef = ridge.fit(X_train_scaled, y_train).coef_\n",
    "\n",
    "plt.plot(range(len(features)), ridge_coef[0])\n",
    "plt.xticks(range(len(features)), features, rotation=60)\n",
    "plt.ylabel('Coefficients')\n",
    "plt.xlabel('Features')\n",
    "plt.show()"
   ]
  },
  {
   "cell_type": "markdown",
   "metadata": {},
   "source": [
    "The ridge regression model chooses a coefficient for each feature based on how important that feature is. The larger the coefficient, the more important it is. It determined that total rebounds (REB) are the most important feature. This is somewhat surprising but rebounds have always been the most unheralded of the basic statistics. Total assists (AST) are next. Players that distribute the ball very well are typicl=ally compenstated very well. The next important is games played (G). Since it's in the negative that means that as the games played in a season increases, the salary of the player decreases. This makes sense since most of the high salary players are also at least All-star level players which means they tend to take more games off due to \"load management\" or \"injury management\".\n",
    "\n",
    "Interestingly, this model determined that 3-point field goal percentage (3P%) and free throw percentage (FT%) are unimportant enough to get a near-zero coefficient. Given the leagues shift towards a more 3-point centric offense, I would think this would be much higher."
   ]
  },
  {
   "cell_type": "code",
   "execution_count": 21,
   "metadata": {},
   "outputs": [
    {
     "name": "stdout",
     "output_type": "stream",
     "text": [
      "R^2 (actual and predicted training salaries): 0.5856605149257142\n",
      "R^2 (actual and predicted testing salaries): 0.4230847569155054\n",
      "\n",
      "Adjusted R^2 (actual and predicted training data): 0.34227315834568195\n",
      "Adjusted R^2 (actual and predicted testing data): 0.1526557367196486\n",
      "\n",
      "Mean absolute error (actual and predicted training salaries): 4209099.690928705\n",
      "Mean absolute error (actual and predicted testing salaries): 4715319.277424536\n",
      "\n",
      "Root mean squared error (actual and predicted training salaries): 5336306.280906555\n",
      "Root mean squared error (actual and predicted testing salaries): 6458438.587896661\n"
     ]
    }
   ],
   "source": [
    "y_pred_train = ridge_cv.predict(X_train_scaled)\n",
    "y_pred_test = ridge_cv.predict(X_test_scaled)\n",
    "\n",
    "r_squared_train = r2_score(y_train, y_pred_train)\n",
    "print('R^2 (actual and predicted training salaries):', r_squared_train)\n",
    "r_squared_test = r2_score(y_test, y_pred_test)\n",
    "print('R^2 (actual and predicted testing salaries):', r_squared_test)\n",
    "\n",
    "adj_r_squared_train = adjusted_r2(best_score, n_train, p_train)\n",
    "print('\\nAdjusted R^2 (actual and predicted training data):', adj_r_squared_train)\n",
    "adj_r_squared_test = adjusted_r2(r_squared_test, n_test, p_test)\n",
    "print('Adjusted R^2 (actual and predicted testing data):', adj_r_squared_test)\n",
    "\n",
    "MAE_train = mean_absolute_error(y_train, y_pred_train)\n",
    "print('\\nMean absolute error (actual and predicted training salaries):', MAE_train)\n",
    "MAE_test = mean_absolute_error(y_test, y_pred_test)\n",
    "print('Mean absolute error (actual and predicted testing salaries):', MAE_test)\n",
    "\n",
    "RMSE_train = mean_squared_error(y_train, y_pred_train, squared=False)\n",
    "print('\\nRoot mean squared error (actual and predicted training salaries):', RMSE_train)\n",
    "RMSE_test = mean_squared_error(y_test, y_pred_test, squared=False)\n",
    "print('Root mean squared error (actual and predicted testing salaries):', RMSE_test)"
   ]
  },
  {
   "cell_type": "markdown",
   "metadata": {},
   "source": [
    "The ridge regression model performed a little bit better than the linear regression model. The R^2 and adjusted R^2 for the testing data for the linear regression model was approximately 0.389 and 0.103, respectively. The MAE and RMSE for the testing data for the linear regression model was approximately \\\\$4,959,488 and \\\\$6,644,895, respectively. There were improvements for all four of these metrics."
   ]
  },
  {
   "cell_type": "code",
   "execution_count": 22,
   "metadata": {},
   "outputs": [
    {
     "data": {
      "image/png": "[encoded data removed]",
      "text/plain": [
       "<Figure size 432x288 with 1 Axes>"
      ]
     },
     "metadata": {},
     "output_type": "display_data"
    }
   ],
   "source": [
    "plt.scatter(y_test, y_pred_test)\n",
    "plt.xlabel('Actual test salaries')\n",
    "plt.ylabel('Predicted test salaries')\n",
    "plt.show()"
   ]
  },
  {
   "cell_type": "markdown",
   "metadata": {},
   "source": [
    "This scatter plot shows how well the predictions match the actual results for the ridge regression model. The x-axis represents the salaries in the test group while the y-represents the predicted salaries of the test group.\n",
    "\n",
    "Juat as with the linear regression results, there seems to be a positive correlation between the predicted and actual salaries. Also, the points on this plot seems slighlty tighter than the linear regression model which makes since given the better metrics.\n",
    "\n",
    "The far right point that I pointed out in the first graph was predicted to be similar. That salary of about \\\\$31 million that was predicted to be just shy of \\\\$15 million. However, the other point I focused on was the one that was top left most. Where in the previous model that point was predicted to be about \\\\$24 million when it was actually about \\\\$1 million, this model predicted it to be about just under \\\\$20 million. This difference isn't as massive, but still quite significant."
   ]
  },
  {
   "cell_type": "markdown",
   "metadata": {},
   "source": [
    "### sklearn's Lasso regression model with scaled data using GridSearchCV"
   ]
  },
  {
   "cell_type": "code",
   "execution_count": 23,
   "metadata": {},
   "outputs": [
    {
     "name": "stdout",
     "output_type": "stream",
     "text": [
      "Best alpha: 99.9\n",
      "R^2 of best alpha: 0.3745317665440985\n"
     ]
    }
   ],
   "source": [
    "# scaling the data\n",
    "scaler = StandardScaler()\n",
    "scaler.fit(X_train)\n",
    "X_train_scaled = scaler.transform(X_train)\n",
    "X_test_scaled = scaler.transform(X_test)\n",
    "\n",
    "# lasso regression model\n",
    "lasso = Lasso()\n",
    "\n",
    "# alpha hyperparameter\n",
    "param_grid = {'alpha':np.arange(0,100,0.1)}\n",
    "lasso_cv = GridSearchCV(lasso, param_grid=param_grid, cv=5, n_jobs=-1)\n",
    "lasso_cv.fit(X_train_scaled, y_train)\n",
    "\n",
    "best_alpha = lasso_cv.best_params_['alpha']\n",
    "best_score = lasso_cv.best_score_\n",
    "\n",
    "print('Best alpha:', best_alpha)\n",
    "print('R^2 of best alpha:', best_score)"
   ]
  },
  {
   "cell_type": "code",
   "execution_count": 24,
   "metadata": {},
   "outputs": [
    {
     "data": {
      "text/html": [
       "<div>\n",
       "<style scoped>\n",
       "    .dataframe tbody tr th:only-of-type {\n",
       "        vertical-align: middle;\n",
       "    }\n",
       "\n",
       "    .dataframe tbody tr th {\n",
       "        vertical-align: top;\n",
       "    }\n",
       "\n",
       "    .dataframe thead th {\n",
       "        text-align: right;\n",
       "    }\n",
       "</style>\n",
       "<table border=\"1\" class=\"dataframe\">\n",
       "  <thead>\n",
       "    <tr style=\"text-align: right;\">\n",
       "      <th></th>\n",
       "      <th>param_alpha</th>\n",
       "      <th>params</th>\n",
       "      <th>mean_test_score</th>\n",
       "      <th>rank_test_score</th>\n",
       "    </tr>\n",
       "  </thead>\n",
       "  <tbody>\n",
       "    <tr>\n",
       "      <th>995</th>\n",
       "      <td>99.5</td>\n",
       "      <td>{'alpha': 99.5}</td>\n",
       "      <td>0.374531</td>\n",
       "      <td>5</td>\n",
       "    </tr>\n",
       "    <tr>\n",
       "      <th>996</th>\n",
       "      <td>99.6</td>\n",
       "      <td>{'alpha': 99.60000000000001}</td>\n",
       "      <td>0.374531</td>\n",
       "      <td>4</td>\n",
       "    </tr>\n",
       "    <tr>\n",
       "      <th>997</th>\n",
       "      <td>99.7</td>\n",
       "      <td>{'alpha': 99.7}</td>\n",
       "      <td>0.374532</td>\n",
       "      <td>3</td>\n",
       "    </tr>\n",
       "    <tr>\n",
       "      <th>998</th>\n",
       "      <td>99.8</td>\n",
       "      <td>{'alpha': 99.80000000000001}</td>\n",
       "      <td>0.374532</td>\n",
       "      <td>2</td>\n",
       "    </tr>\n",
       "    <tr>\n",
       "      <th>999</th>\n",
       "      <td>99.9</td>\n",
       "      <td>{'alpha': 99.9}</td>\n",
       "      <td>0.374532</td>\n",
       "      <td>1</td>\n",
       "    </tr>\n",
       "  </tbody>\n",
       "</table>\n",
       "</div>"
      ],
      "text/plain": [
       "    param_alpha                        params  mean_test_score  \\\n",
       "995        99.5               {'alpha': 99.5}         0.374531   \n",
       "996        99.6  {'alpha': 99.60000000000001}         0.374531   \n",
       "997        99.7               {'alpha': 99.7}         0.374532   \n",
       "998        99.8  {'alpha': 99.80000000000001}         0.374532   \n",
       "999        99.9               {'alpha': 99.9}         0.374532   \n",
       "\n",
       "     rank_test_score  \n",
       "995                5  \n",
       "996                4  \n",
       "997                3  \n",
       "998                2  \n",
       "999                1  "
      ]
     },
     "execution_count": 24,
     "metadata": {},
     "output_type": "execute_result"
    }
   ],
   "source": [
    "pd.DataFrame(lasso_cv.cv_results_)[['param_alpha', 'params', 'mean_test_score', 'rank_test_score']].tail()"
   ]
  },
  {
   "cell_type": "markdown",
   "metadata": {},
   "source": [
    "GridSearchCV determined that the alpha hyperparameter that allowed the lasso regression model to perform the best was alpha=99.9. This model had an R^2 of about 0.375 for the training data. The alpha was the maximum value of all the possible options I gave it to try. Also the next best 4 scores, which are 99.8, 99.7, 99.6, and 99.5, have virtually identical scores. This seems to suggest that this is about as good as the model will perform no matter what other alpha values I use. That being said, the linear regression model and the ridge regression model both performed better than this model."
   ]
  },
  {
   "cell_type": "code",
   "execution_count": 25,
   "metadata": {},
   "outputs": [
    {
     "data": {
      "image/png": "[encoded data removed]",
      "text/plain": [
       "<Figure size 432x288 with 1 Axes>"
      ]
     },
     "metadata": {},
     "output_type": "display_data"
    }
   ],
   "source": [
    "lasso = Lasso(alpha=99.9)\n",
    "\n",
    "features = X_train.columns\n",
    "lasso_coef = lasso.fit(X_train_scaled, y_train).coef_\n",
    "\n",
    "plt.plot(range(len(features)), lasso_coef)\n",
    "plt.xticks(range(len(features)), features, rotation=60)\n",
    "plt.ylabel('Coefficients')\n",
    "plt.xlabel('Features')\n",
    "plt.show()"
   ]
  },
  {
   "cell_type": "markdown",
   "metadata": {},
   "source": [
    "The lasso model had some different results in terms of determining the importance of each feature. According to this model, player efficiency rating (PER) is the most important feature. This is a way to quantify a player's overall offensive production so this makes sense. The next three most important are total assists (AST), games played (G), and value over replacement player (VORP). All three of these had the same coefficient magnitude but the G and VORP coefficients were negative while the AST coefficient was positive. The most obvious difference between the lasso and ridge coefficients is the one for VORP. The lasso model has a -4 coefficient for VORP but the ridge model had a near-zero coefficient. Typically the best players have a high VORP stat so the coefficients for both of these models is unexpected. Both models, however, agreed on games played. Beyond these observations, both models produced similar coefficients."
   ]
  },
  {
   "cell_type": "code",
   "execution_count": 26,
   "metadata": {},
   "outputs": [
    {
     "name": "stdout",
     "output_type": "stream",
     "text": [
      "R^2 (actual and predicted training salaries): 0.6214726262264259\n",
      "R^2 (actual and predicted testing salaries): 0.38937655732781506\n",
      "\n",
      "Adjusted R^2 (actual and predicted training data): 0.2747230058862419\n",
      "Adjusted R^2 (actual and predicted testing data): 0.10314681857522834\n",
      "\n",
      "Mean absolute error (actual and predicted training salaries): 3993490.105275705\n",
      "Mean absolute error (actual and predicted testing salaries): 4958987.241388082\n",
      "\n",
      "Root mean squared error (actual and predicted training salaries): 5100482.1623731805\n",
      "Root mean squared error (actual and predicted testing salaries): 6644438.164421354\n"
     ]
    }
   ],
   "source": [
    "y_pred_train = lasso_cv.predict(X_train_scaled)\n",
    "y_pred_test = lasso_cv.predict(X_test_scaled)\n",
    "\n",
    "r_squared_train = r2_score(y_train, y_pred_train)\n",
    "print('R^2 (actual and predicted training salaries):', r_squared_train)\n",
    "r_squared_test = r2_score(y_test, y_pred_test)\n",
    "print('R^2 (actual and predicted testing salaries):', r_squared_test)\n",
    "\n",
    "adj_r_squared_train = adjusted_r2(best_score, n_train, p_train)\n",
    "print('\\nAdjusted R^2 (actual and predicted training data):', adj_r_squared_train)\n",
    "adj_r_squared_test = adjusted_r2(r_squared_test, n_test, p_test)\n",
    "print('Adjusted R^2 (actual and predicted testing data):', adj_r_squared_test)\n",
    "\n",
    "MAE_train = mean_absolute_error(y_train, y_pred_train)\n",
    "print('\\nMean absolute error (actual and predicted training salaries):', MAE_train)\n",
    "MAE_test = mean_absolute_error(y_test, y_pred_test)\n",
    "print('Mean absolute error (actual and predicted testing salaries):', MAE_test)\n",
    "\n",
    "RMSE_train = mean_squared_error(y_train, y_pred_train, squared=False)\n",
    "print('\\nRoot mean squared error (actual and predicted training salaries):', RMSE_train)\n",
    "RMSE_test = mean_squared_error(y_test, y_pred_test, squared=False)\n",
    "print('Root mean squared error (actual and predicted testing salaries):', RMSE_test)"
   ]
  },
  {
   "cell_type": "markdown",
   "metadata": {},
   "source": [
    "Across the board, regarding the testing data, the lasso regression model performed worse than the ridge regression model and only marginally better than the linear regression model."
   ]
  },
  {
   "cell_type": "code",
   "execution_count": 27,
   "metadata": {},
   "outputs": [
    {
     "data": {
      "image/png": "[encoded data removed]",
      "text/plain": [
       "<Figure size 432x288 with 1 Axes>"
      ]
     },
     "metadata": {},
     "output_type": "display_data"
    }
   ],
   "source": [
    "plt.scatter(y_test, y_pred_test)\n",
    "plt.xlabel('Actual test salaries')\n",
    "plt.ylabel('Predicted test salaries')\n",
    "plt.show()"
   ]
  },
  {
   "cell_type": "markdown",
   "metadata": {},
   "source": [
    "The scatter plot for the actual and predicted test salaries is also very similar to the one produced by the linear regression model."
   ]
  },
  {
   "cell_type": "markdown",
   "metadata": {},
   "source": [
    "### sklearn's ElasticNet regression model with scaled data using GridSearchCV"
   ]
  },
  {
   "cell_type": "code",
   "execution_count": 28,
   "metadata": {},
   "outputs": [
    {
     "name": "stdout",
     "output_type": "stream",
     "text": [
      "Best combination: {'alpha': 1.6, 'l1_ratio': 0.9}\n",
      "R^2 of best combination: 0.43278377105347204\n"
     ]
    }
   ],
   "source": [
    "# scaling the data\n",
    "scaler = StandardScaler()\n",
    "scaler.fit(X_train)\n",
    "X_train_scaled = scaler.transform(X_train)\n",
    "X_test_scaled = scaler.transform(X_test)\n",
    "\n",
    "# elastic net regression model\n",
    "elastic_net = ElasticNet()\n",
    "\n",
    "# alpha and l1_ratio hyperparameters\n",
    "param_grid = {'alpha':np.arange(0,100,0.1), 'l1_ratio':np.arange(0,1,0.1)}\n",
    "elastic_net_cv = GridSearchCV(elastic_net, param_grid=param_grid, cv=5, n_jobs=-1)\n",
    "elastic_net_cv.fit(X_train_scaled, y_train)\n",
    "\n",
    "best_combo = elastic_net_cv.best_params_\n",
    "best_score = elastic_net_cv.best_score_\n",
    "\n",
    "print('Best combination:', best_combo)\n",
    "print('R^2 of best combination:', best_score)"
   ]
  },
  {
   "cell_type": "markdown",
   "metadata": {},
   "source": [
    "The elastic net model had an R^2 for the training data that is negligibly worse than the ridge regression model, which has thus far been the best performing model."
   ]
  },
  {
   "cell_type": "code",
   "execution_count": 29,
   "metadata": {},
   "outputs": [
    {
     "data": {
      "image/png": "[encoded data removed]",
      "text/plain": [
       "<Figure size 432x288 with 1 Axes>"
      ]
     },
     "metadata": {},
     "output_type": "display_data"
    }
   ],
   "source": [
    "elastic_net = ElasticNet(alpha=1.6, l1_ratio=0.9)\n",
    "\n",
    "features = X_train.columns\n",
    "elastic_net_coef = elastic_net.fit(X_train_scaled, y_train).coef_\n",
    "\n",
    "plt.plot(range(len(features)), elastic_net_coef)\n",
    "plt.xticks(range(len(features)), features, rotation=60)\n",
    "plt.ylabel('Coefficients')\n",
    "plt.xlabel('Features')\n",
    "plt.show()"
   ]
  },
  {
   "cell_type": "markdown",
   "metadata": {},
   "source": [
    "The elastic net coefficients are very similar to the ridge coefficients."
   ]
  },
  {
   "cell_type": "code",
   "execution_count": 30,
   "metadata": {},
   "outputs": [
    {
     "name": "stdout",
     "output_type": "stream",
     "text": [
      "R^2 (actual and predicted training salaries): 0.5784262474028936\n",
      "R^2 (actual and predicted testing salaries): 0.4226972406137044\n",
      "\n",
      "Adjusted R^2 (actual and predicted training data): 0.34227054303008997\n",
      "Adjusted R^2 (actual and predicted testing data): 0.15208657215137833\n",
      "\n",
      "Mean absolute error (actual and predicted training salaries): 4255236.742225259\n",
      "Mean absolute error (actual and predicted testing salaries): 4710168.546731311\n",
      "\n",
      "Root mean squared error (actual and predicted training salaries): 5382690.005457102\n",
      "Root mean squared error (actual and predicted testing salaries): 6460607.30343262\n"
     ]
    }
   ],
   "source": [
    "y_pred_train = elastic_net_cv.predict(X_train_scaled)\n",
    "y_pred_test = elastic_net_cv.predict(X_test_scaled)\n",
    "\n",
    "r_squared_train = r2_score(y_train, y_pred_train)\n",
    "print('R^2 (actual and predicted training salaries):', r_squared_train)\n",
    "r_squared_test = r2_score(y_test, y_pred_test)\n",
    "print('R^2 (actual and predicted testing salaries):', r_squared_test)\n",
    "\n",
    "adj_r_squared_train = adjusted_r2(best_score, n_train, p_train)\n",
    "print('\\nAdjusted R^2 (actual and predicted training data):', adj_r_squared_train)\n",
    "adj_r_squared_test = adjusted_r2(r_squared_test, n_test, p_test)\n",
    "print('Adjusted R^2 (actual and predicted testing data):', adj_r_squared_test)\n",
    "\n",
    "MAE_train = mean_absolute_error(y_train, y_pred_train)\n",
    "print('\\nMean absolute error (actual and predicted training salaries):', MAE_train)\n",
    "MAE_test = mean_absolute_error(y_test, y_pred_test)\n",
    "print('Mean absolute error (actual and predicted testing salaries):', MAE_test)\n",
    "\n",
    "RMSE_train = mean_squared_error(y_train, y_pred_train, squared=False)\n",
    "print('\\nRoot mean squared error (actual and predicted training salaries):', RMSE_train)\n",
    "RMSE_test = mean_squared_error(y_test, y_pred_test, squared=False)\n",
    "print('Root mean squared error (actual and predicted testing salaries):', RMSE_test)"
   ]
  },
  {
   "cell_type": "markdown",
   "metadata": {},
   "source": [
    "Just as for the R^2 for the training data, the metrics for the testing data were also very close, but the ridge regression model still edges it out. The R^2, adjusted R^2, and the RMSE with the testing data for the elastic net model were only slighly worse. It's MAE was better but again the difference wasn't significant."
   ]
  },
  {
   "cell_type": "code",
   "execution_count": 31,
   "metadata": {},
   "outputs": [
    {
     "data": {
      "image/png": "[encoded data removed]",
      "text/plain": [
       "<Figure size 432x288 with 1 Axes>"
      ]
     },
     "metadata": {},
     "output_type": "display_data"
    }
   ],
   "source": [
    "plt.scatter(y_test, y_pred_test)\n",
    "plt.xlabel('Actual test salaries')\n",
    "plt.ylabel('Predicted test salaries')\n",
    "plt.show()"
   ]
  },
  {
   "cell_type": "markdown",
   "metadata": {},
   "source": [
    "This scatter plot of the actual and predicted testing salary is very similar to the one produced with the ridge regression predictions. Even the outlier data points located on the leftmost and rightmost portions of the graph are placed in near the exact same spots."
   ]
  },
  {
   "cell_type": "markdown",
   "metadata": {},
   "source": [
    "### sklearn's DecisionTree regression model with scaled data using GridSearchCV"
   ]
  },
  {
   "cell_type": "code",
   "execution_count": 32,
   "metadata": {},
   "outputs": [
    {
     "name": "stdout",
     "output_type": "stream",
     "text": [
      "Best combination: {'criterion': 'mae', 'max_depth': 3, 'min_samples_leaf': 7, 'min_samples_split': 2, 'min_weight_fraction_leaf': 0.0, 'splitter': 'random'}\n",
      "R^2 of best combo: 0.36286011740059615\n"
     ]
    }
   ],
   "source": [
    "# scaling the data\n",
    "scaler = StandardScaler()\n",
    "scaler.fit(X_train)\n",
    "X_train_scaled = scaler.transform(X_train)\n",
    "X_test_scaled = scaler.transform(X_test)\n",
    "\n",
    "# DecisionTree regression model\n",
    "dtr = DecisionTreeRegressor(random_state=77)\n",
    "\n",
    "# hyperparameters\n",
    "param_grid = {'criterion':['mse','friedman_mse', 'mae', 'poisson'], \n",
    "              'splitter':['best','random'], \n",
    "              'max_depth':np.arange(0,9),\n",
    "              'min_samples_split':np.arange(0,9), \n",
    "              'min_samples_leaf':np.arange(0,9), \n",
    "              'min_weight_fraction_leaf':np.arange(0,1.25,0.25)}\n",
    "dtr_cv = GridSearchCV(dtr, param_grid=param_grid, cv=5, n_jobs=-1)\n",
    "dtr_cv.fit(X_train_scaled, y_train)\n",
    "\n",
    "best_combo = dtr_cv.best_params_\n",
    "best_score = dtr_cv.best_score_\n",
    "\n",
    "print('Best combination:', best_combo)\n",
    "print('R^2 of best combo:', best_score)"
   ]
  },
  {
   "cell_type": "markdown",
   "metadata": {},
   "source": [
    "Of all the models I have used GridSearchCV on, this model has had the worst R^2 score. The next worst was the lasso model with an R^2 of approximately 0.3745."
   ]
  },
  {
   "cell_type": "code",
   "execution_count": 33,
   "metadata": {},
   "outputs": [
    {
     "name": "stdout",
     "output_type": "stream",
     "text": [
      "R^2 (actual and predicted training salaries): 0.4798729113694459\n",
      "R^2 (actual and predicted testing salaries): 0.10609980759137028\n",
      "\n",
      "Adjusted R^2 (actual and predicted training data): 0.26118885953898907\n",
      "Adjusted R^2 (actual and predicted testing data): -0.31291590760017485\n",
      "\n",
      "Mean absolute error (actual and predicted training salaries): 4591332.135454545\n",
      "Mean absolute error (actual and predicted testing salaries): 5796544.278472222\n",
      "\n",
      "Root mean squared error (actual and predicted training salaries): 5978845.399847469\n",
      "Root mean squared error (actual and predicted testing salaries): 8039259.41133943\n"
     ]
    }
   ],
   "source": [
    "dtr = DecisionTreeRegressor(random_state=77, \n",
    "                            criterion='mae', \n",
    "                            max_depth=3, \n",
    "                            min_samples_leaf=7, \n",
    "                            min_samples_split=2, \n",
    "                            min_weight_fraction_leaf=0.0, \n",
    "                            splitter='random')\n",
    "dtr.fit(X_train_scaled, y_train)\n",
    "                            \n",
    "y_pred_train = dtr.predict(X_train_scaled)\n",
    "y_pred_test = dtr.predict(X_test_scaled)\n",
    "\n",
    "r_squared_train = r2_score(y_train, y_pred_train)\n",
    "print('R^2 (actual and predicted training salaries):', r_squared_train)\n",
    "r_squared_test = r2_score(y_test, y_pred_test)\n",
    "print('R^2 (actual and predicted testing salaries):', r_squared_test)\n",
    "\n",
    "adj_r_squared_train = adjusted_r2(best_score, n_train, p_train)\n",
    "print('\\nAdjusted R^2 (actual and predicted training data):', adj_r_squared_train)\n",
    "adj_r_squared_test = adjusted_r2(r_squared_test, n_test, p_test)\n",
    "print('Adjusted R^2 (actual and predicted testing data):', adj_r_squared_test)\n",
    "\n",
    "MAE_train = mean_absolute_error(y_train, y_pred_train)\n",
    "print('\\nMean absolute error (actual and predicted training salaries):', MAE_train)\n",
    "MAE_test = mean_absolute_error(y_test, y_pred_test)\n",
    "print('Mean absolute error (actual and predicted testing salaries):', MAE_test)\n",
    "\n",
    "RMSE_train = mean_squared_error(y_train, y_pred_train, squared=False)\n",
    "print('\\nRoot mean squared error (actual and predicted training salaries):', RMSE_train)\n",
    "RMSE_test = mean_squared_error(y_test, y_pred_test, squared=False)\n",
    "print('Root mean squared error (actual and predicted testing salaries):', RMSE_test)"
   ]
  },
  {
   "cell_type": "markdown",
   "metadata": {},
   "source": [
    "Just like with the GridSearchCV R^2 score, this model had the worst R^2, adjusted R^2, MAE and RMSE scores for the testing data (not including the dummy regressor model)."
   ]
  },
  {
   "cell_type": "code",
   "execution_count": 34,
   "metadata": {},
   "outputs": [
    {
     "data": {
      "image/svg+xml": [
       "<?xml version=\"1.0\" encoding=\"UTF-8\" standalone=\"no\"?>\r\n",
       "<!DOCTYPE svg PUBLIC \"-//W3C//DTD SVG 1.1//EN\"\r\n",
       " \"http://www.w3.org/Graphics/SVG/1.1/DTD/svg11.dtd\">\r\n",
       "<!-- Generated by graphviz version 2.38.0 (20140413.2041)\r\n",
       " -->\r\n",
       "<!-- Title: Tree Pages: 1 -->\r\n",
       "<svg width=\"721pt\" height=\"373pt\"\r\n",
       " viewBox=\"0.00 0.00 720.50 373.00\" xmlns=\"http://www.w3.org/2000/svg\" xmlns:xlink=\"http://www.w3.org/1999/xlink\">\r\n",
       "<g id=\"graph0\" class=\"graph\" transform=\"scale(1 1) rotate(0) translate(4 369)\">\r\n",
       "<title>Tree</title>\r\n",
       "<polygon fill=\"white\" stroke=\"none\" points=\"-4,4 -4,-369 716.5,-369 716.5,4 -4,4\"/>\r\n",
       "<!-- 0 -->\r\n",
       "<g id=\"node1\" class=\"node\"><title>0</title>\r\n",
       "<polygon fill=\"none\" stroke=\"black\" points=\"414,-365 288,-365 288,-297 414,-297 414,-365\"/>\r\n",
       "<text text-anchor=\"middle\" x=\"351\" y=\"-349.8\" font-family=\"Times New Roman,serif\" font-size=\"14.00\">PER &lt;= 0.14</text>\r\n",
       "<text text-anchor=\"middle\" x=\"351\" y=\"-334.8\" font-family=\"Times New Roman,serif\" font-size=\"14.00\">mae = 6990091.268</text>\r\n",
       "<text text-anchor=\"middle\" x=\"351\" y=\"-319.8\" font-family=\"Times New Roman,serif\" font-size=\"14.00\">samples = 110</text>\r\n",
       "<text text-anchor=\"middle\" x=\"351\" y=\"-304.8\" font-family=\"Times New Roman,serif\" font-size=\"14.00\">value = 12500000.0</text>\r\n",
       "</g>\r\n",
       "<!-- 1 -->\r\n",
       "<g id=\"node2\" class=\"node\"><title>1</title>\r\n",
       "<polygon fill=\"none\" stroke=\"black\" points=\"339,-261 213,-261 213,-193 339,-193 339,-261\"/>\r\n",
       "<text text-anchor=\"middle\" x=\"276\" y=\"-245.8\" font-family=\"Times New Roman,serif\" font-size=\"14.00\">AST &lt;= 1.009</text>\r\n",
       "<text text-anchor=\"middle\" x=\"276\" y=\"-230.8\" font-family=\"Times New Roman,serif\" font-size=\"14.00\">mae = 5174677.673</text>\r\n",
       "<text text-anchor=\"middle\" x=\"276\" y=\"-215.8\" font-family=\"Times New Roman,serif\" font-size=\"14.00\">samples = 67</text>\r\n",
       "<text text-anchor=\"middle\" x=\"276\" y=\"-200.8\" font-family=\"Times New Roman,serif\" font-size=\"14.00\">value = 8680000.0</text>\r\n",
       "</g>\r\n",
       "<!-- 0&#45;&gt;1 -->\r\n",
       "<g id=\"edge1\" class=\"edge\"><title>0&#45;&gt;1</title>\r\n",
       "<path fill=\"none\" stroke=\"black\" d=\"M326.65,-296.884C320.231,-288.154 313.224,-278.625 306.525,-269.514\"/>\r\n",
       "<polygon fill=\"black\" stroke=\"black\" points=\"309.229,-267.283 300.485,-261.299 303.589,-271.429 309.229,-267.283\"/>\r\n",
       "<text text-anchor=\"middle\" x=\"296.715\" y=\"-282.313\" font-family=\"Times New Roman,serif\" font-size=\"14.00\">True</text>\r\n",
       "</g>\r\n",
       "<!-- 6 -->\r\n",
       "<g id=\"node7\" class=\"node\"><title>6</title>\r\n",
       "<polygon fill=\"none\" stroke=\"black\" points=\"490,-261 364,-261 364,-193 490,-193 490,-261\"/>\r\n",
       "<text text-anchor=\"middle\" x=\"427\" y=\"-245.8\" font-family=\"Times New Roman,serif\" font-size=\"14.00\">3P% &lt;= 0.022</text>\r\n",
       "<text text-anchor=\"middle\" x=\"427\" y=\"-230.8\" font-family=\"Times New Roman,serif\" font-size=\"14.00\">mae = 6254465.295</text>\r\n",
       "<text text-anchor=\"middle\" x=\"427\" y=\"-215.8\" font-family=\"Times New Roman,serif\" font-size=\"14.00\">samples = 43</text>\r\n",
       "<text text-anchor=\"middle\" x=\"427\" y=\"-200.8\" font-family=\"Times New Roman,serif\" font-size=\"14.00\">value = 20951075.6</text>\r\n",
       "</g>\r\n",
       "<!-- 0&#45;&gt;6 -->\r\n",
       "<g id=\"edge6\" class=\"edge\"><title>0&#45;&gt;6</title>\r\n",
       "<path fill=\"none\" stroke=\"black\" d=\"M375.675,-296.884C382.179,-288.154 389.28,-278.625 396.068,-269.514\"/>\r\n",
       "<polygon fill=\"black\" stroke=\"black\" points=\"399.02,-271.409 402.189,-261.299 393.407,-267.227 399.02,-271.409\"/>\r\n",
       "<text text-anchor=\"middle\" x=\"405.802\" y=\"-282.337\" font-family=\"Times New Roman,serif\" font-size=\"14.00\">False</text>\r\n",
       "</g>\r\n",
       "<!-- 2 -->\r\n",
       "<g id=\"node3\" class=\"node\"><title>2</title>\r\n",
       "<polygon fill=\"none\" stroke=\"black\" points=\"194.5,-157 75.5,-157 75.5,-89 194.5,-89 194.5,-157\"/>\r\n",
       "<text text-anchor=\"middle\" x=\"135\" y=\"-141.8\" font-family=\"Times New Roman,serif\" font-size=\"14.00\">PER &lt;= &#45;0.445</text>\r\n",
       "<text text-anchor=\"middle\" x=\"135\" y=\"-126.8\" font-family=\"Times New Roman,serif\" font-size=\"14.00\">mae = 4547551.53</text>\r\n",
       "<text text-anchor=\"middle\" x=\"135\" y=\"-111.8\" font-family=\"Times New Roman,serif\" font-size=\"14.00\">samples = 59</text>\r\n",
       "<text text-anchor=\"middle\" x=\"135\" y=\"-96.8\" font-family=\"Times New Roman,serif\" font-size=\"14.00\">value = 8000000.0</text>\r\n",
       "</g>\r\n",
       "<!-- 1&#45;&gt;2 -->\r\n",
       "<g id=\"edge2\" class=\"edge\"><title>1&#45;&gt;2</title>\r\n",
       "<path fill=\"none\" stroke=\"black\" d=\"M230.221,-192.884C217.169,-183.442 202.823,-173.064 189.315,-163.292\"/>\r\n",
       "<polygon fill=\"black\" stroke=\"black\" points=\"191.185,-160.325 181.031,-157.299 187.082,-165.996 191.185,-160.325\"/>\r\n",
       "</g>\r\n",
       "<!-- 5 -->\r\n",
       "<g id=\"node6\" class=\"node\"><title>5</title>\r\n",
       "<polygon fill=\"none\" stroke=\"black\" points=\"339,-149.5 213,-149.5 213,-96.5 339,-96.5 339,-149.5\"/>\r\n",
       "<text text-anchor=\"middle\" x=\"276\" y=\"-134.3\" font-family=\"Times New Roman,serif\" font-size=\"14.00\">mae = 6167884.354</text>\r\n",
       "<text text-anchor=\"middle\" x=\"276\" y=\"-119.3\" font-family=\"Times New Roman,serif\" font-size=\"14.00\">samples = 8</text>\r\n",
       "<text text-anchor=\"middle\" x=\"276\" y=\"-104.3\" font-family=\"Times New Roman,serif\" font-size=\"14.00\">value = 17700000.0</text>\r\n",
       "</g>\r\n",
       "<!-- 1&#45;&gt;5 -->\r\n",
       "<g id=\"edge5\" class=\"edge\"><title>1&#45;&gt;5</title>\r\n",
       "<path fill=\"none\" stroke=\"black\" d=\"M276,-192.884C276,-182.326 276,-170.597 276,-159.854\"/>\r\n",
       "<polygon fill=\"black\" stroke=\"black\" points=\"279.5,-159.52 276,-149.52 272.5,-159.52 279.5,-159.52\"/>\r\n",
       "</g>\r\n",
       "<!-- 3 -->\r\n",
       "<g id=\"node4\" class=\"node\"><title>3</title>\r\n",
       "<polygon fill=\"none\" stroke=\"black\" points=\"126,-53 0,-53 0,-0 126,-0 126,-53\"/>\r\n",
       "<text text-anchor=\"middle\" x=\"63\" y=\"-37.8\" font-family=\"Times New Roman,serif\" font-size=\"14.00\">mae = 4005525.486</text>\r\n",
       "<text text-anchor=\"middle\" x=\"63\" y=\"-22.8\" font-family=\"Times New Roman,serif\" font-size=\"14.00\">samples = 46</text>\r\n",
       "<text text-anchor=\"middle\" x=\"63\" y=\"-7.8\" font-family=\"Times New Roman,serif\" font-size=\"14.00\">value = 7000000.0</text>\r\n",
       "</g>\r\n",
       "<!-- 2&#45;&gt;3 -->\r\n",
       "<g id=\"edge3\" class=\"edge\"><title>2&#45;&gt;3</title>\r\n",
       "<path fill=\"none\" stroke=\"black\" d=\"M109.818,-88.9485C102.987,-79.9834 95.5841,-70.2666 88.7241,-61.2629\"/>\r\n",
       "<polygon fill=\"black\" stroke=\"black\" points=\"91.4534,-59.0699 82.6089,-53.2367 85.8854,-63.3122 91.4534,-59.0699\"/>\r\n",
       "</g>\r\n",
       "<!-- 4 -->\r\n",
       "<g id=\"node5\" class=\"node\"><title>4</title>\r\n",
       "<polygon fill=\"none\" stroke=\"black\" points=\"270,-53 144,-53 144,-0 270,-0 270,-53\"/>\r\n",
       "<text text-anchor=\"middle\" x=\"207\" y=\"-37.8\" font-family=\"Times New Roman,serif\" font-size=\"14.00\">mae = 4464987.301</text>\r\n",
       "<text text-anchor=\"middle\" x=\"207\" y=\"-22.8\" font-family=\"Times New Roman,serif\" font-size=\"14.00\">samples = 13</text>\r\n",
       "<text text-anchor=\"middle\" x=\"207\" y=\"-7.8\" font-family=\"Times New Roman,serif\" font-size=\"14.00\">value = 12500000.0</text>\r\n",
       "</g>\r\n",
       "<!-- 2&#45;&gt;4 -->\r\n",
       "<g id=\"edge4\" class=\"edge\"><title>2&#45;&gt;4</title>\r\n",
       "<path fill=\"none\" stroke=\"black\" d=\"M160.182,-88.9485C167.013,-79.9834 174.416,-70.2666 181.276,-61.2629\"/>\r\n",
       "<polygon fill=\"black\" stroke=\"black\" points=\"184.115,-63.3122 187.391,-53.2367 178.547,-59.0699 184.115,-63.3122\"/>\r\n",
       "</g>\r\n",
       "<!-- 7 -->\r\n",
       "<g id=\"node8\" class=\"node\"><title>7</title>\r\n",
       "<polygon fill=\"none\" stroke=\"black\" points=\"496.5,-149.5 357.5,-149.5 357.5,-96.5 496.5,-96.5 496.5,-149.5\"/>\r\n",
       "<text text-anchor=\"middle\" x=\"427\" y=\"-134.3\" font-family=\"Times New Roman,serif\" font-size=\"14.00\">mae = 5668282.827</text>\r\n",
       "<text text-anchor=\"middle\" x=\"427\" y=\"-119.3\" font-family=\"Times New Roman,serif\" font-size=\"14.00\">samples = 18</text>\r\n",
       "<text text-anchor=\"middle\" x=\"427\" y=\"-104.3\" font-family=\"Times New Roman,serif\" font-size=\"14.00\">value = 13538702.833</text>\r\n",
       "</g>\r\n",
       "<!-- 6&#45;&gt;7 -->\r\n",
       "<g id=\"edge7\" class=\"edge\"><title>6&#45;&gt;7</title>\r\n",
       "<path fill=\"none\" stroke=\"black\" d=\"M427,-192.884C427,-182.326 427,-170.597 427,-159.854\"/>\r\n",
       "<polygon fill=\"black\" stroke=\"black\" points=\"430.5,-159.52 427,-149.52 423.5,-159.52 430.5,-159.52\"/>\r\n",
       "</g>\r\n",
       "<!-- 8 -->\r\n",
       "<g id=\"node9\" class=\"node\"><title>8</title>\r\n",
       "<polygon fill=\"none\" stroke=\"black\" points=\"641,-157 515,-157 515,-89 641,-89 641,-157\"/>\r\n",
       "<text text-anchor=\"middle\" x=\"578\" y=\"-141.8\" font-family=\"Times New Roman,serif\" font-size=\"14.00\">REB &lt;= 0.599</text>\r\n",
       "<text text-anchor=\"middle\" x=\"578\" y=\"-126.8\" font-family=\"Times New Roman,serif\" font-size=\"14.00\">mae = 5074978.921</text>\r\n",
       "<text text-anchor=\"middle\" x=\"578\" y=\"-111.8\" font-family=\"Times New Roman,serif\" font-size=\"14.00\">samples = 25</text>\r\n",
       "<text text-anchor=\"middle\" x=\"578\" y=\"-96.8\" font-family=\"Times New Roman,serif\" font-size=\"14.00\">value = 21754050.8</text>\r\n",
       "</g>\r\n",
       "<!-- 6&#45;&gt;8 -->\r\n",
       "<g id=\"edge8\" class=\"edge\"><title>6&#45;&gt;8</title>\r\n",
       "<path fill=\"none\" stroke=\"black\" d=\"M476.025,-192.884C490.207,-183.304 505.815,-172.761 520.465,-162.864\"/>\r\n",
       "<polygon fill=\"black\" stroke=\"black\" points=\"522.635,-165.623 528.962,-157.125 518.717,-159.822 522.635,-165.623\"/>\r\n",
       "</g>\r\n",
       "<!-- 9 -->\r\n",
       "<g id=\"node10\" class=\"node\"><title>9</title>\r\n",
       "<polygon fill=\"none\" stroke=\"black\" points=\"569,-53 443,-53 443,-0 569,-0 569,-53\"/>\r\n",
       "<text text-anchor=\"middle\" x=\"506\" y=\"-37.8\" font-family=\"Times New Roman,serif\" font-size=\"14.00\">mae = 4468964.446</text>\r\n",
       "<text text-anchor=\"middle\" x=\"506\" y=\"-22.8\" font-family=\"Times New Roman,serif\" font-size=\"14.00\">samples = 14</text>\r\n",
       "<text text-anchor=\"middle\" x=\"506\" y=\"-7.8\" font-family=\"Times New Roman,serif\" font-size=\"14.00\">value = 21048050.8</text>\r\n",
       "</g>\r\n",
       "<!-- 8&#45;&gt;9 -->\r\n",
       "<g id=\"edge9\" class=\"edge\"><title>8&#45;&gt;9</title>\r\n",
       "<path fill=\"none\" stroke=\"black\" d=\"M552.818,-88.9485C545.987,-79.9834 538.584,-70.2666 531.724,-61.2629\"/>\r\n",
       "<polygon fill=\"black\" stroke=\"black\" points=\"534.453,-59.0699 525.609,-53.2367 528.885,-63.3122 534.453,-59.0699\"/>\r\n",
       "</g>\r\n",
       "<!-- 10 -->\r\n",
       "<g id=\"node11\" class=\"node\"><title>10</title>\r\n",
       "<polygon fill=\"none\" stroke=\"black\" points=\"712.5,-53 587.5,-53 587.5,-0 712.5,-0 712.5,-53\"/>\r\n",
       "<text text-anchor=\"middle\" x=\"650\" y=\"-37.8\" font-family=\"Times New Roman,serif\" font-size=\"14.00\">mae = 4437259.97</text>\r\n",
       "<text text-anchor=\"middle\" x=\"650\" y=\"-22.8\" font-family=\"Times New Roman,serif\" font-size=\"14.00\">samples = 11</text>\r\n",
       "<text text-anchor=\"middle\" x=\"650\" y=\"-7.8\" font-family=\"Times New Roman,serif\" font-size=\"14.00\">value = 24604884.5</text>\r\n",
       "</g>\r\n",
       "<!-- 8&#45;&gt;10 -->\r\n",
       "<g id=\"edge10\" class=\"edge\"><title>8&#45;&gt;10</title>\r\n",
       "<path fill=\"none\" stroke=\"black\" d=\"M603.182,-88.9485C610.013,-79.9834 617.416,-70.2666 624.276,-61.2629\"/>\r\n",
       "<polygon fill=\"black\" stroke=\"black\" points=\"627.115,-63.3122 630.391,-53.2367 621.547,-59.0699 627.115,-63.3122\"/>\r\n",
       "</g>\r\n",
       "</g>\r\n",
       "</svg>\r\n"
      ],
      "text/plain": [
       "<graphviz.files.Source at 0x16b026e9580>"
      ]
     },
     "execution_count": 34,
     "metadata": {},
     "output_type": "execute_result"
    }
   ],
   "source": [
    "dot_data = export_graphviz(dtr, feature_names=X_train.columns)\n",
    "graphviz.Source(dot_data)"
   ]
  },
  {
   "cell_type": "code",
   "execution_count": 35,
   "metadata": {},
   "outputs": [
    {
     "data": {
      "image/png": "[encoded data removed]",
      "text/plain": [
       "<Figure size 432x288 with 1 Axes>"
      ]
     },
     "metadata": {},
     "output_type": "display_data"
    }
   ],
   "source": [
    "plt.scatter(y_test, y_pred_test)\n",
    "plt.xlabel('Actual test salaries')\n",
    "plt.ylabel('Predicted test salaries')\n",
    "plt.show()"
   ]
  },
  {
   "cell_type": "markdown",
   "metadata": {},
   "source": [
    "The graphic of the decision tree and the scatter plot comparing actual and predicted test salaries show above show just how crazy this model is. The model uses PER, 3P%, AST and REB to predict the salaries. The ridge, lasso, and elastic net models also determined that the PER, AST and REB features were very important. However, all three of these models determined that 3P% was amongst the most unimportant of features."
   ]
  },
  {
   "cell_type": "markdown",
   "metadata": {},
   "source": [
    "### sklearn's RandomForest regression model with scaled data using GridSearchCV"
   ]
  },
  {
   "cell_type": "code",
   "execution_count": 36,
   "metadata": {},
   "outputs": [
    {
     "name": "stdout",
     "output_type": "stream",
     "text": [
      "Best combination: {'bootstrap': True, 'criterion': 'mae', 'n_estimators': 20}\n",
      "R^2 of best combo: 0.44072616681476917\n"
     ]
    }
   ],
   "source": [
    "# scaling the data\n",
    "scaler = StandardScaler()\n",
    "scaler.fit(X_train)\n",
    "X_train_scaled = scaler.transform(X_train)\n",
    "X_test_scaled = scaler.transform(X_test)\n",
    "\n",
    "# RandomForest regression model\n",
    "rfg = RandomForestRegressor(random_state=77)\n",
    "\n",
    "# hyperparameters\n",
    "param_grid = {'n_estimators':np.arange(10,110,10), \n",
    "              'criterion':['mse','mae'], \n",
    "              'bootstrap':[True, False]}\n",
    "rfg_cv = GridSearchCV(rfg, param_grid=param_grid, cv=5, n_jobs=-1)\n",
    "\n",
    "# used np.ravel on y_train to convert it from a column vector to a 1d array\n",
    "rfg_cv.fit(X_train_scaled, np.ravel(y_train))\n",
    "\n",
    "best_combo = rfg_cv.best_params_\n",
    "best_score = rfg_cv.best_score_\n",
    "\n",
    "print('Best combination:', best_combo)\n",
    "print('R^2 of best combo:', best_score)"
   ]
  },
  {
   "cell_type": "markdown",
   "metadata": {},
   "source": [
    "This random forest regressor has the best GridSearchCV R^2 score so far."
   ]
  },
  {
   "cell_type": "code",
   "execution_count": 37,
   "metadata": {},
   "outputs": [
    {
     "name": "stdout",
     "output_type": "stream",
     "text": [
      "R^2 (actual and predicted training salaries): 0.9055482710972096\n",
      "R^2 (actual and predicted testing salaries): 0.4617320250128516\n",
      "\n",
      "Adjusted R^2 (actual and predicted training data): 0.35148034237031744\n",
      "Adjusted R^2 (actual and predicted testing data): 0.20941891173762583\n",
      "\n",
      "Mean absolute error (actual and predicted training salaries): 2008312.7086136364\n",
      "Mean absolute error (actual and predicted testing salaries): 4598098.390972222\n",
      "\n",
      "Root mean squared error (actual and predicted training salaries): 2547812.9647210706\n",
      "Root mean squared error (actual and predicted testing salaries): 6238365.24270909\n"
     ]
    }
   ],
   "source": [
    "rfg = RandomForestRegressor(random_state=77, \n",
    "                            n_estimators=20,\n",
    "                            criterion='mae',\n",
    "                            bootstrap=True)\n",
    "rfg.fit(X_train_scaled, np.ravel(y_train))\n",
    "                            \n",
    "y_pred_train = rfg.predict(X_train_scaled)\n",
    "y_pred_test = rfg.predict(X_test_scaled)\n",
    "\n",
    "r_squared_train = r2_score(y_train, y_pred_train)\n",
    "print('R^2 (actual and predicted training salaries):', r_squared_train)\n",
    "r_squared_test = r2_score(y_test, y_pred_test)\n",
    "print('R^2 (actual and predicted testing salaries):', r_squared_test)\n",
    "\n",
    "adj_r_squared_train = adjusted_r2(best_score, n_train, p_train)\n",
    "print('\\nAdjusted R^2 (actual and predicted training data):', adj_r_squared_train)\n",
    "adj_r_squared_test = adjusted_r2(r_squared_test, n_test, p_test)\n",
    "print('Adjusted R^2 (actual and predicted testing data):', adj_r_squared_test)\n",
    "\n",
    "MAE_train = mean_absolute_error(y_train, y_pred_train)\n",
    "print('\\nMean absolute error (actual and predicted training salaries):', MAE_train)\n",
    "MAE_test = mean_absolute_error(y_test, y_pred_test)\n",
    "print('Mean absolute error (actual and predicted testing salaries):', MAE_test)\n",
    "\n",
    "RMSE_train = mean_squared_error(y_train, y_pred_train, squared=False)\n",
    "print('\\nRoot mean squared error (actual and predicted training salaries):', RMSE_train)\n",
    "RMSE_test = mean_squared_error(y_test, y_pred_test, squared=False)\n",
    "print('Root mean squared error (actual and predicted testing salaries):', RMSE_test)"
   ]
  },
  {
   "cell_type": "markdown",
   "metadata": {},
   "source": [
    "This has been the best model so far according to these metrics, for both the training and testing data. The ridge regression model, the best performing model tried before this one, had an R^2 on the testing data of about 0.423 and an adjusted R^2 of about 0.153. The testing data MAE and RMSE scores for the ridge model were about \\\\$4.7 million and \\\\$6.5 million respectively. The random forest model had better scores for all these metrics, albeit not by a whole lot."
   ]
  },
  {
   "cell_type": "code",
   "execution_count": 38,
   "metadata": {},
   "outputs": [
    {
     "data": {
      "image/png": "[encoded data removed]",
      "text/plain": [
       "<Figure size 432x288 with 1 Axes>"
      ]
     },
     "metadata": {},
     "output_type": "display_data"
    }
   ],
   "source": [
    "plt.scatter(y_test, y_pred_test)\n",
    "plt.xlabel('Actual test salaries')\n",
    "plt.ylabel('Predicted test salaries')\n",
    "plt.show()"
   ]
  },
  {
   "cell_type": "markdown",
   "metadata": {},
   "source": [
    "The scatter plot produced by the random forest model predictions looks slightly tighter than the one produced by the ridge model. On the leftmost side of the graph, the highest predicted value on the ridge graph was at just under \\\\$20 million. However, on this random forest graph, that value is closer \\\\$18 million. The decrease isn't by much given that the actual salary value of those predictions is about \\\\$1.5 million. On the rightmost side, the ridge ridge model predicted a salary that was actually \\\\$30 million to be \\\\$35 million while the random forest model predicted it to be \\\\$25 million. \n",
    "\n",
    "It seems as though these models struggle to predict salaries that are under \\\\$3 million and salaries that are over \\\\$30 million. In between, this model performs really well."
   ]
  },
  {
   "cell_type": "markdown",
   "metadata": {},
   "source": [
    "### sklearn's GradientBoosting regression model with scaled data using GridSearchCV"
   ]
  },
  {
   "cell_type": "code",
   "execution_count": 39,
   "metadata": {},
   "outputs": [
    {
     "name": "stdout",
     "output_type": "stream",
     "text": [
      "Best combination: {'learning_rate': 0.5, 'loss': 'lad', 'max_depth': 2, 'n_estimators': 260}\n",
      "R^2 of best combo: 0.4395221139377335\n"
     ]
    }
   ],
   "source": [
    "# scaling the data\n",
    "scaler = StandardScaler()\n",
    "scaler.fit(X_train)\n",
    "X_train_scaled = scaler.transform(X_train)\n",
    "X_test_scaled = scaler.transform(X_test)\n",
    "\n",
    "# GradientBoosting regression model\n",
    "gbr = GradientBoostingRegressor(random_state=77)\n",
    "\n",
    "# hyperparameters\n",
    "param_grid = {'n_estimators':np.arange(10,310,10), \n",
    "              'loss':['ls','lad'], \n",
    "              'learning_rate':np.arange(0.1,0.7,0.1), \n",
    "              'max_depth':np.arange(1,4)}\n",
    "gbr_cv = GridSearchCV(gbr, param_grid=param_grid, cv=5, n_jobs=-1)\n",
    "\n",
    "gbr_cv.fit(X_train_scaled, np.ravel(y_train))\n",
    "\n",
    "best_combo = gbr_cv.best_params_\n",
    "best_score = gbr_cv.best_score_\n",
    "\n",
    "print('Best combination:', best_combo)\n",
    "print('R^2 of best combo:', best_score)"
   ]
  },
  {
   "cell_type": "markdown",
   "metadata": {},
   "source": [
    "This GridSearchCV mean R^2 score is the second best so far, barely being edged out by the random forest model which had a score of approximately 0.4407."
   ]
  },
  {
   "cell_type": "code",
   "execution_count": 40,
   "metadata": {},
   "outputs": [
    {
     "name": "stdout",
     "output_type": "stream",
     "text": [
      "R^2 (actual and predicted training salaries): 0.8855335991646585\n",
      "R^2 (actual and predicted testing salaries): 0.4143208777439694\n",
      "\n",
      "Adjusted R^2 (actual and predicted training data): 0.3500841533958824\n",
      "Adjusted R^2 (actual and predicted testing data): 0.13978378918645507\n",
      "\n",
      "Mean absolute error (actual and predicted training salaries): 1054246.2325769933\n",
      "Mean absolute error (actual and predicted testing salaries): 5030078.540925603\n",
      "\n",
      "Root mean squared error (actual and predicted training salaries): 2804798.0771606187\n",
      "Root mean squared error (actual and predicted testing salaries): 6507308.537233621\n"
     ]
    }
   ],
   "source": [
    "gbr = GradientBoostingRegressor(random_state=77, \n",
    "                                n_estimators=260, \n",
    "                                loss='lad', \n",
    "                                learning_rate=0.5, \n",
    "                                max_depth=2)\n",
    "gbr.fit(X_train_scaled, np.ravel(y_train))\n",
    "                            \n",
    "y_pred_train = gbr.predict(X_train_scaled)\n",
    "y_pred_test = gbr.predict(X_test_scaled)\n",
    "\n",
    "r_squared_train = r2_score(y_train, y_pred_train)\n",
    "print('R^2 (actual and predicted training salaries):', r_squared_train)\n",
    "r_squared_test = r2_score(y_test, y_pred_test)\n",
    "print('R^2 (actual and predicted testing salaries):', r_squared_test)\n",
    "\n",
    "adj_r_squared_train = adjusted_r2(best_score, n_train, p_train)\n",
    "print('\\nAdjusted R^2 (actual and predicted training data):', adj_r_squared_train)\n",
    "adj_r_squared_test = adjusted_r2(r_squared_test, n_test, p_test)\n",
    "print('Adjusted R^2 (actual and predicted testing data):', adj_r_squared_test)\n",
    "\n",
    "MAE_train = mean_absolute_error(y_train, y_pred_train)\n",
    "print('\\nMean absolute error (actual and predicted training salaries):', MAE_train)\n",
    "MAE_test = mean_absolute_error(y_test, y_pred_test)\n",
    "print('Mean absolute error (actual and predicted testing salaries):', MAE_test)\n",
    "\n",
    "RMSE_train = mean_squared_error(y_train, y_pred_train, squared=False)\n",
    "print('\\nRoot mean squared error (actual and predicted training salaries):', RMSE_train)\n",
    "RMSE_test = mean_squared_error(y_test, y_pred_test, squared=False)\n",
    "print('Root mean squared error (actual and predicted testing salaries):', RMSE_test)"
   ]
  },
  {
   "cell_type": "markdown",
   "metadata": {},
   "source": [
    "Overall this model did not perform as well as the random forest model."
   ]
  },
  {
   "cell_type": "code",
   "execution_count": 41,
   "metadata": {},
   "outputs": [
    {
     "data": {
      "image/png": "[encoded data removed]",
      "text/plain": [
       "<Figure size 432x288 with 1 Axes>"
      ]
     },
     "metadata": {},
     "output_type": "display_data"
    }
   ],
   "source": [
    "plt.scatter(y_test, y_pred_test)\n",
    "plt.xlabel('Actual test salaries')\n",
    "plt.ylabel('Predicted test salaries')\n",
    "plt.show()"
   ]
  },
  {
   "cell_type": "markdown",
   "metadata": {},
   "source": [
    "For the actual salaries under \\\\$5 million, the gradient boosting model had a slighter tighter collection of data points compared to the random forest model. The same goes for the actual salaries above \\\\$30 million. As for the salaries in between these two values, the random forest model did a much better job."
   ]
  },
  {
   "cell_type": "markdown",
   "metadata": {},
   "source": [
    "### sklearn's AdaBoosting regression model with scaled data using GridSearchCV"
   ]
  },
  {
   "cell_type": "code",
   "execution_count": 42,
   "metadata": {},
   "outputs": [
    {
     "name": "stdout",
     "output_type": "stream",
     "text": [
      "Best combination: {'learning_rate': 0.5, 'loss': 'linear', 'n_estimators': 20}\n",
      "R^2 of best combo: 0.4576899584771582\n"
     ]
    }
   ],
   "source": [
    "# scaling the data\n",
    "scaler = StandardScaler()\n",
    "scaler.fit(X_train)\n",
    "X_train_scaled = scaler.transform(X_train)\n",
    "X_test_scaled = scaler.transform(X_test)\n",
    "\n",
    "# AdaBoost regression model\n",
    "ada = AdaBoostRegressor(random_state=77)\n",
    "\n",
    "# hyperparameters\n",
    "param_grid = {'n_estimators':np.arange(10,110,10), \n",
    "              'loss':['linear','square','exponential'], \n",
    "              'learning_rate':np.arange(0.1,1.1,0.1)}\n",
    "ada_cv = GridSearchCV(ada, param_grid=param_grid, cv=5, n_jobs=-1)\n",
    "\n",
    "ada_cv.fit(X_train_scaled, np.ravel(y_train))\n",
    "\n",
    "best_combo = ada_cv.best_params_\n",
    "best_score = ada_cv.best_score_\n",
    "\n",
    "print('Best combination:', best_combo)\n",
    "print('R^2 of best combo:', best_score)"
   ]
  },
  {
   "cell_type": "markdown",
   "metadata": {},
   "source": [
    "This model had a better grid search R^2 score than the random forest model which had the best score up unitl now with an R^2 of approximately 0.4407."
   ]
  },
  {
   "cell_type": "code",
   "execution_count": 43,
   "metadata": {},
   "outputs": [
    {
     "name": "stdout",
     "output_type": "stream",
     "text": [
      "R^2 (actual and predicted training salaries): 0.7856629241965392\n",
      "R^2 (actual and predicted testing salaries): 0.311980112909517\n",
      "\n",
      "Adjusted R^2 (actual and predicted training data): 0.37115112206393885\n",
      "Adjusted R^2 (actual and predicted testing data): -0.010529209164146902\n",
      "\n",
      "Mean absolute error (actual and predicted training salaries): 3257417.7054164275\n",
      "Mean absolute error (actual and predicted testing salaries): 5425524.857041398\n",
      "\n",
      "Root mean squared error (actual and predicted training salaries): 3838055.3885808554\n",
      "Root mean squared error (actual and predicted testing salaries): 7052969.782331473\n"
     ]
    }
   ],
   "source": [
    "ada = AdaBoostRegressor(random_state=77, \n",
    "                                n_estimators=20, \n",
    "                                loss='linear', \n",
    "                                learning_rate=0.5)\n",
    "ada.fit(X_train_scaled, np.ravel(y_train))\n",
    "                            \n",
    "y_pred_train = ada.predict(X_train_scaled)\n",
    "y_pred_test = ada.predict(X_test_scaled)\n",
    "\n",
    "r_squared_train = r2_score(y_train, y_pred_train)\n",
    "print('R^2 (actual and predicted training salaries):', r_squared_train)\n",
    "r_squared_test = r2_score(y_test, y_pred_test)\n",
    "print('R^2 (actual and predicted testing salaries):', r_squared_test)\n",
    "\n",
    "adj_r_squared_train = adjusted_r2(best_score, n_train, p_train)\n",
    "print('\\nAdjusted R^2 (actual and predicted training data):', adj_r_squared_train)\n",
    "adj_r_squared_test = adjusted_r2(r_squared_test, n_test, p_test)\n",
    "print('Adjusted R^2 (actual and predicted testing data):', adj_r_squared_test)\n",
    "\n",
    "MAE_train = mean_absolute_error(y_train, y_pred_train)\n",
    "print('\\nMean absolute error (actual and predicted training salaries):', MAE_train)\n",
    "MAE_test = mean_absolute_error(y_test, y_pred_test)\n",
    "print('Mean absolute error (actual and predicted testing salaries):', MAE_test)\n",
    "\n",
    "RMSE_train = mean_squared_error(y_train, y_pred_train, squared=False)\n",
    "print('\\nRoot mean squared error (actual and predicted training salaries):', RMSE_train)\n",
    "RMSE_test = mean_squared_error(y_test, y_pred_test, squared=False)\n",
    "print('Root mean squared error (actual and predicted testing salaries):', RMSE_test)"
   ]
  },
  {
   "cell_type": "markdown",
   "metadata": {},
   "source": [
    "The training data metrics were very good, but not so much for the testing data. In fact, it had some of the worst metrics regarding the testing data. This is a classic case of the model overfitting to the training data."
   ]
  },
  {
   "cell_type": "code",
   "execution_count": 44,
   "metadata": {},
   "outputs": [
    {
     "data": {
      "image/png": "[encoded data removed]",
      "text/plain": [
       "<Figure size 432x288 with 1 Axes>"
      ]
     },
     "metadata": {},
     "output_type": "display_data"
    }
   ],
   "source": [
    "plt.scatter(y_test, y_pred_test)\n",
    "plt.xlabel('Actual test salaries')\n",
    "plt.ylabel('Predicted test salaries')\n",
    "plt.show()"
   ]
  },
  {
   "cell_type": "markdown",
   "metadata": {},
   "source": [
    "There was no need to display this scatter plot since the metrics already showed that this model was terrible, but for the sake of consistency here it is. This also shows just how bad this model worked for predicting the salary data."
   ]
  },
  {
   "cell_type": "markdown",
   "metadata": {},
   "source": [
    "# Model metrics"
   ]
  },
  {
   "cell_type": "markdown",
   "metadata": {},
   "source": [
    "**models**-*metrics* | *mean R^2 (GridSearchCV)* | *R^2 (train)* | *R^2 (test)* | *Adjusted R^2 (train)* | *Adjusted R^2 (test)* | *MAE (train)* | *MAE (test)* | *RMSE (train)* | *RMSE (test)*\n",
    ":----------|:----------:|:----------:|:----------:|:----------:|:----------:|:----------:|:----------:|:----------:|:----------:\n",
    "**Dummy (mean) Regressor** | N/A | 0 | -0.001144622163 | -0.1595744681 | -0.4704311638 | 7067479.768 | 6951335.557 | 8290153.791 | 8507852.202\n",
    "**Linear Regression (unscaled)** | N/A | 0.6214726672 | 0.3892925341 | 0.5610693694 | 0.1030234095 | 3993532.992 | 4959487.834 | 5100481.887 | 6644895.294\n",
    "**Linear Regression (scaled)** | N/A | 0.6214726672 | 0.3892925341 | 0.5610693694 | 0.1030234095 | 3993532.992 | 4959487.834 | 5100481.887 | 6644895.294\n",
    "**Ridge Regression (scaled)** | 0.4327860265 | 0.5856605149 | 0.4230847569 | 0.3422731583 | 0.1526557367 | 4209099.691 | 4715319.277 | 5336306.281 | 6458438.588\n",
    "**Lasso Regression (scaled)** | 0.3745317665 | 0.6214726262 | 0.3893765573 | 0.2747230059 | 0.1031468186 | 3993490.105 | 4958987.241 | 5100482.162 | 6644438.164\n",
    "**ElasticNet Regression (scaled)** | 0.4327837711 | 0.5784262474 | 0.4226972406 | 0.342270543 | 0.1520865722 | 4255236.742 | 4710168.547 | 5382690.005 | 6460607.303\n",
    "**DecisionTreeRegressor (scaled)** | 0.3628601174 | 0.4798729114 | 0.1060998076 | 0.2611888595 | -0.3129159076 | 4591332.135 | 5796544.278 | 5978845.4 | 8039259.411\n",
    "**RandomForestRegressor (scaled)** | 0.4407261668 | 0.9055482711 | 0.461732025 | 0.3514803424 | 0.2094189117 | 2008312.709 | 4598098.391 | 2547812.965 | 6238365.243\n",
    "**GradientBoostingRegressor (scaled)** | 0.4395221139 | 0.8855335992 | 0.4143208777 | 0.3500841534 | 0.1397837892 | 1054246.233 | 5030078.541 | 2804798.077 | 6507308.537\n",
    "**AdaBoostRegressor (scaled)** | 0.4576899585 | 0.7856629242 | 0.3119801129 | 0.3711511221 | -0.01052920916 | 3257417.705 | 5425524.857 | 3838055.389 | 7052969.782"
   ]
  },
  {
   "cell_type": "markdown",
   "metadata": {},
   "source": [
    "The three best performing models were the ridge regression model, the elastic net model, and the random forest model. However, what I noticed about these models and all the other models was that they were very inaccurate with actual salaries below \\\\$3 million and salaries over \\\\$30 million. I pointed this out several times above when discussing the various scatterplots of the predicted vs. actual testing salaries. As a result, I will remove all of the salaries that fall within those ranges and use the three best performing models on the remaining data. This will no doubt produce better results."
   ]
  },
  {
   "cell_type": "markdown",
   "metadata": {},
   "source": [
    "# Load and remove \"outlier\" data"
   ]
  },
  {
   "cell_type": "code",
   "execution_count": 45,
   "metadata": {},
   "outputs": [
    {
     "data": {
      "text/html": [
       "<div>\n",
       "<style scoped>\n",
       "    .dataframe tbody tr th:only-of-type {\n",
       "        vertical-align: middle;\n",
       "    }\n",
       "\n",
       "    .dataframe tbody tr th {\n",
       "        vertical-align: top;\n",
       "    }\n",
       "\n",
       "    .dataframe thead th {\n",
       "        text-align: right;\n",
       "    }\n",
       "</style>\n",
       "<table border=\"1\" class=\"dataframe\">\n",
       "  <thead>\n",
       "    <tr style=\"text-align: right;\">\n",
       "      <th></th>\n",
       "      <th>NAME</th>\n",
       "      <th>SEASON</th>\n",
       "      <th>PTS</th>\n",
       "      <th>REB</th>\n",
       "      <th>AST</th>\n",
       "      <th>BLK</th>\n",
       "      <th>STL</th>\n",
       "      <th>G</th>\n",
       "      <th>FG%</th>\n",
       "      <th>3P%</th>\n",
       "      <th>FT%</th>\n",
       "      <th>TS%</th>\n",
       "      <th>USG%</th>\n",
       "      <th>PER</th>\n",
       "      <th>WS</th>\n",
       "      <th>BPM</th>\n",
       "      <th>VORP</th>\n",
       "      <th>SALARY</th>\n",
       "    </tr>\n",
       "  </thead>\n",
       "  <tbody>\n",
       "    <tr>\n",
       "      <th>0</th>\n",
       "      <td>Patrick Patterson</td>\n",
       "      <td>2017-2018</td>\n",
       "      <td>318.0</td>\n",
       "      <td>193.0</td>\n",
       "      <td>57.0</td>\n",
       "      <td>23.0</td>\n",
       "      <td>48.0</td>\n",
       "      <td>82</td>\n",
       "      <td>0.398</td>\n",
       "      <td>0.386</td>\n",
       "      <td>0.870</td>\n",
       "      <td>0.555</td>\n",
       "      <td>10.8</td>\n",
       "      <td>10.0</td>\n",
       "      <td>2.6</td>\n",
       "      <td>-1.3</td>\n",
       "      <td>0.2</td>\n",
       "      <td>4.325064e+06</td>\n",
       "    </tr>\n",
       "    <tr>\n",
       "      <th>1</th>\n",
       "      <td>E'Twaun Moore</td>\n",
       "      <td>2017-2018</td>\n",
       "      <td>1022.0</td>\n",
       "      <td>238.0</td>\n",
       "      <td>187.0</td>\n",
       "      <td>12.0</td>\n",
       "      <td>79.0</td>\n",
       "      <td>82</td>\n",
       "      <td>0.508</td>\n",
       "      <td>0.425</td>\n",
       "      <td>0.706</td>\n",
       "      <td>0.593</td>\n",
       "      <td>16.1</td>\n",
       "      <td>12.1</td>\n",
       "      <td>4.4</td>\n",
       "      <td>-0.2</td>\n",
       "      <td>1.2</td>\n",
       "      <td>8.680000e+06</td>\n",
       "    </tr>\n",
       "    <tr>\n",
       "      <th>2</th>\n",
       "      <td>Bismack Biyombo</td>\n",
       "      <td>2017-2018</td>\n",
       "      <td>468.0</td>\n",
       "      <td>468.0</td>\n",
       "      <td>66.0</td>\n",
       "      <td>95.0</td>\n",
       "      <td>21.0</td>\n",
       "      <td>82</td>\n",
       "      <td>0.520</td>\n",
       "      <td>0.000</td>\n",
       "      <td>0.650</td>\n",
       "      <td>0.556</td>\n",
       "      <td>14.9</td>\n",
       "      <td>14.1</td>\n",
       "      <td>2.9</td>\n",
       "      <td>-1.6</td>\n",
       "      <td>0.2</td>\n",
       "      <td>1.700000e+07</td>\n",
       "    </tr>\n",
       "    <tr>\n",
       "      <th>3</th>\n",
       "      <td>Khris Middleton</td>\n",
       "      <td>2017-2018</td>\n",
       "      <td>1652.0</td>\n",
       "      <td>429.0</td>\n",
       "      <td>328.0</td>\n",
       "      <td>21.0</td>\n",
       "      <td>119.0</td>\n",
       "      <td>82</td>\n",
       "      <td>0.466</td>\n",
       "      <td>0.359</td>\n",
       "      <td>0.884</td>\n",
       "      <td>0.577</td>\n",
       "      <td>24.6</td>\n",
       "      <td>17.4</td>\n",
       "      <td>6.9</td>\n",
       "      <td>0.4</td>\n",
       "      <td>1.8</td>\n",
       "      <td>1.752069e+07</td>\n",
       "    </tr>\n",
       "    <tr>\n",
       "      <th>4</th>\n",
       "      <td>Cory Joseph</td>\n",
       "      <td>2017-2018</td>\n",
       "      <td>649.0</td>\n",
       "      <td>263.0</td>\n",
       "      <td>260.0</td>\n",
       "      <td>18.0</td>\n",
       "      <td>80.0</td>\n",
       "      <td>82</td>\n",
       "      <td>0.424</td>\n",
       "      <td>0.353</td>\n",
       "      <td>0.745</td>\n",
       "      <td>0.503</td>\n",
       "      <td>14.8</td>\n",
       "      <td>11.0</td>\n",
       "      <td>3.1</td>\n",
       "      <td>-1.2</td>\n",
       "      <td>0.5</td>\n",
       "      <td>7.472500e+06</td>\n",
       "    </tr>\n",
       "  </tbody>\n",
       "</table>\n",
       "</div>"
      ],
      "text/plain": [
       "                NAME     SEASON     PTS    REB    AST   BLK    STL   G    FG%  \\\n",
       "0  Patrick Patterson  2017-2018   318.0  193.0   57.0  23.0   48.0  82  0.398   \n",
       "1      E'Twaun Moore  2017-2018  1022.0  238.0  187.0  12.0   79.0  82  0.508   \n",
       "2    Bismack Biyombo  2017-2018   468.0  468.0   66.0  95.0   21.0  82  0.520   \n",
       "3    Khris Middleton  2017-2018  1652.0  429.0  328.0  21.0  119.0  82  0.466   \n",
       "4        Cory Joseph  2017-2018   649.0  263.0  260.0  18.0   80.0  82  0.424   \n",
       "\n",
       "     3P%    FT%    TS%  USG%   PER   WS  BPM  VORP        SALARY  \n",
       "0  0.386  0.870  0.555  10.8  10.0  2.6 -1.3   0.2  4.325064e+06  \n",
       "1  0.425  0.706  0.593  16.1  12.1  4.4 -0.2   1.2  8.680000e+06  \n",
       "2  0.000  0.650  0.556  14.9  14.1  2.9 -1.6   0.2  1.700000e+07  \n",
       "3  0.359  0.884  0.577  24.6  17.4  6.9  0.4   1.8  1.752069e+07  \n",
       "4  0.353  0.745  0.503  14.8  11.0  3.1 -1.2   0.5  7.472500e+06  "
      ]
     },
     "execution_count": 45,
     "metadata": {},
     "output_type": "execute_result"
    }
   ],
   "source": [
    "new_nba_data = pd.read_csv('../data/nba_data.csv', index_col=0)\n",
    "new_nba_data.reset_index(drop=True, inplace=True)\n",
    "new_nba_data.head()"
   ]
  },
  {
   "cell_type": "code",
   "execution_count": 46,
   "metadata": {},
   "outputs": [
    {
     "data": {
      "text/plain": [
       "(158, 18)"
      ]
     },
     "execution_count": 46,
     "metadata": {},
     "output_type": "execute_result"
    }
   ],
   "source": [
    "new_nba_data.shape"
   ]
  },
  {
   "cell_type": "code",
   "execution_count": 47,
   "metadata": {},
   "outputs": [
    {
     "name": "stdout",
     "output_type": "stream",
     "text": [
      "Number of bad salaries: 29 \n",
      "Shape of new_nba_data: (129, 18)\n"
     ]
    }
   ],
   "source": [
    "# removing players with salaries less than $3 million and greater than $30 million\n",
    "index_names = new_nba_data[(new_nba_data['SALARY']<=3000000) | (new_nba_data['SALARY']>=30000000)].index\n",
    "new_nba_data.drop(index_names, inplace=True)\n",
    "\n",
    "print('Number of bad salaries:', len(index_names), '\\nShape of new_nba_data:', new_nba_data.shape)"
   ]
  },
  {
   "cell_type": "markdown",
   "metadata": {},
   "source": [
    "Out of the 158 salaries that were in the original data, 29 of those salaries were either \\\\$3 million or less or \\\\$30 million or greater. These have now been taken out and what remains are salaries that fall in between these two numbers. In theory, the models should now be able to perform much better. \n",
    "\n",
    "That being said, there is a reason why this data can be taken out other than the fact that it is \"messing up the predictions\". Generally speaking, salaries that fall under the \\\\$3 million threshold are for two types of players: players acquired late in a draft with very team-friendly (low-cost) contracts or players acquired after the vast majority of the roster is constructed. Both of these types are typically low-impact, end-of-the-bench types of players with salaries that are relatively cheap.\n",
    "\n",
    "As for players that earn greater than \\\\$30 million, these types of contracts are given because teams have no choice regardless of the players actual worth. If they are amazing all-stars, then it becomes a no-brainer. But if these players are not but believe they are, or even worse, if other teams believe they are, teams have two options. They can let the player walk in free agency and lose the player without getting anything in exchange, or they could sign the player to the massive salary and hope they can play up to it for the benefit of the team."
   ]
  },
  {
   "cell_type": "markdown",
   "metadata": {},
   "source": [
    "# Split and scale the modified data"
   ]
  },
  {
   "cell_type": "code",
   "execution_count": 48,
   "metadata": {},
   "outputs": [],
   "source": [
    "from sklearn.model_selection import train_test_split\n",
    "\n",
    "# split the data\n",
    "new_X_train, new_X_test, new_y_train, new_y_test = train_test_split(new_nba_data.drop(columns='SALARY'), new_nba_data.SALARY, test_size = 0.3, random_state=77)"
   ]
  },
  {
   "cell_type": "code",
   "execution_count": 49,
   "metadata": {},
   "outputs": [],
   "source": [
    "# removing NAME and SEASON columns\n",
    "name_and_season_list = ['NAME', 'SEASON']\n",
    "name_and_season_train = new_X_train[name_and_season_list]\n",
    "name_and_season_test = new_X_test[name_and_season_list]\n",
    "new_X_train.drop(columns=name_and_season_list, inplace=True)\n",
    "new_X_test.drop(columns=name_and_season_list, inplace=True)"
   ]
  },
  {
   "cell_type": "code",
   "execution_count": 50,
   "metadata": {},
   "outputs": [],
   "source": [
    "# scaling the data\n",
    "scaler = StandardScaler()\n",
    "scaler.fit(new_X_train)\n",
    "new_X_train_scaled = scaler.transform(new_X_train)\n",
    "new_X_test_scaled = scaler.transform(new_X_test)"
   ]
  },
  {
   "cell_type": "code",
   "execution_count": 51,
   "metadata": {},
   "outputs": [
    {
     "data": {
      "text/plain": [
       "((90, 15), (39, 15), (90,), (39,))"
      ]
     },
     "execution_count": 51,
     "metadata": {},
     "output_type": "execute_result"
    }
   ],
   "source": [
    "new_X_train_scaled.shape, new_X_test_scaled.shape, new_y_train.shape, new_y_test.shape"
   ]
  },
  {
   "cell_type": "markdown",
   "metadata": {},
   "source": [
    "The split data looks good so now the three best performing models can be implemented. I will do so in reverse order of performance with elastic net first, then ridge, then the random forest."
   ]
  },
  {
   "cell_type": "markdown",
   "metadata": {},
   "source": [
    "# Best performing models"
   ]
  },
  {
   "cell_type": "markdown",
   "metadata": {},
   "source": [
    "### sklearn's ElasticNet regression model with scaled data using GridSearchCV"
   ]
  },
  {
   "cell_type": "code",
   "execution_count": 52,
   "metadata": {},
   "outputs": [
    {
     "name": "stdout",
     "output_type": "stream",
     "text": [
      "Best combination: {'alpha': 1.5, 'l1_ratio': 0.9}\n",
      "R^2 of best combination: 0.3255089928448643\n"
     ]
    }
   ],
   "source": [
    "# elastic net regression model\n",
    "elastic_net = ElasticNet()\n",
    "\n",
    "# alpha and l1_ratio hyperparameters\n",
    "param_grid = {'alpha':np.arange(0,100,0.1), 'l1_ratio':np.arange(0,1.1,0.1)}\n",
    "elastic_net_cv = GridSearchCV(elastic_net, param_grid=param_grid, cv=5, n_jobs=-1)\n",
    "elastic_net_cv.fit(new_X_train_scaled, new_y_train)\n",
    "\n",
    "best_combo = elastic_net_cv.best_params_\n",
    "best_score = elastic_net_cv.best_score_\n",
    "\n",
    "print('Best combination:', best_combo)\n",
    "print('R^2 of best combination:', best_score)"
   ]
  },
  {
   "cell_type": "markdown",
   "metadata": {},
   "source": [
    "Right of the bat something unexpected happened. The elastic net regression model with the original data had a mean R^2 (GridSearchCV) score of approximately 0.433 which is much better than the score it had here. The hyperparameters are also quite similar with the previous elastic net having alpha = 1.6 and l1_ratio = 0.9 also."
   ]
  },
  {
   "cell_type": "code",
   "execution_count": 53,
   "metadata": {},
   "outputs": [
    {
     "data": {
      "image/png": "[encoded data removed]",
      "text/plain": [
       "<Figure size 432x288 with 1 Axes>"
      ]
     },
     "metadata": {},
     "output_type": "display_data"
    }
   ],
   "source": [
    "elastic_net = ElasticNet(alpha=1.5, l1_ratio=0.9)\n",
    "\n",
    "features = new_X_train.columns\n",
    "elastic_net_coef = elastic_net.fit(new_X_train_scaled, new_y_train).coef_\n",
    "\n",
    "plt.plot(range(len(features)), elastic_net_coef)\n",
    "plt.xticks(range(len(features)), features, rotation=60)\n",
    "plt.ylabel('Coefficients')\n",
    "plt.xlabel('Features')\n",
    "plt.show()"
   ]
  },
  {
   "cell_type": "markdown",
   "metadata": {},
   "source": [
    "It also produced a different coefficient graph. This one determined FT% (free throw percentage) was important where the previous elastic net model had it as unimportant."
   ]
  },
  {
   "cell_type": "code",
   "execution_count": 54,
   "metadata": {},
   "outputs": [
    {
     "name": "stdout",
     "output_type": "stream",
     "text": [
      "R^2 (actual and predicted training salaries): 0.545580542323362\n",
      "R^2 (actual and predicted testing salaries): 0.48210331774844506\n",
      "\n",
      "Adjusted R^2 (actual and predicted training data): 0.21787744914989582\n",
      "Adjusted R^2 (actual and predicted testing data): 0.23933924794302863\n",
      "\n",
      "Mean absolute error (actual and predicted training salaries): 3644945.9446737864\n",
      "Mean absolute error (actual and predicted testing salaries): 3290803.7826922834\n",
      "\n",
      "Root mean squared error (actual and predicted training salaries): 4477399.322466566\n",
      "Root mean squared error (actual and predicted testing salaries): 4227838.632356842\n"
     ]
    }
   ],
   "source": [
    "new_y_pred_train = elastic_net_cv.predict(new_X_train_scaled)\n",
    "new_y_pred_test = elastic_net_cv.predict(new_X_test_scaled)\n",
    "\n",
    "r_squared_train = r2_score(new_y_train, new_y_pred_train)\n",
    "print('R^2 (actual and predicted training salaries):', r_squared_train)\n",
    "r_squared_test = r2_score(new_y_test, new_y_pred_test)\n",
    "print('R^2 (actual and predicted testing salaries):', r_squared_test)\n",
    "\n",
    "adj_r_squared_train = adjusted_r2(best_score, n_train, p_train)\n",
    "print('\\nAdjusted R^2 (actual and predicted training data):', adj_r_squared_train)\n",
    "adj_r_squared_test = adjusted_r2(r_squared_test, n_test, p_test)\n",
    "print('Adjusted R^2 (actual and predicted testing data):', adj_r_squared_test)\n",
    "\n",
    "MAE_train = mean_absolute_error(new_y_train, new_y_pred_train)\n",
    "print('\\nMean absolute error (actual and predicted training salaries):', MAE_train)\n",
    "MAE_test = mean_absolute_error(new_y_test, new_y_pred_test)\n",
    "print('Mean absolute error (actual and predicted testing salaries):', MAE_test)\n",
    "\n",
    "RMSE_train = mean_squared_error(new_y_train, new_y_pred_train, squared=False)\n",
    "print('\\nRoot mean squared error (actual and predicted training salaries):', RMSE_train)\n",
    "RMSE_test = mean_squared_error(new_y_test, new_y_pred_test, squared=False)\n",
    "print('Root mean squared error (actual and predicted testing salaries):', RMSE_test)"
   ]
  },
  {
   "cell_type": "markdown",
   "metadata": {},
   "source": [
    "This model performed much better with the new testing data across the board. The RMSE in particular improved by over \\\\$2 million."
   ]
  },
  {
   "cell_type": "code",
   "execution_count": 55,
   "metadata": {},
   "outputs": [
    {
     "data": {
      "image/png": "[encoded data removed]",
      "text/plain": [
       "<Figure size 432x288 with 1 Axes>"
      ]
     },
     "metadata": {},
     "output_type": "display_data"
    }
   ],
   "source": [
    "plt.scatter(new_y_test, new_y_pred_test)\n",
    "plt.xlabel('Actual test salaries')\n",
    "plt.ylabel('Predicted test salaries')\n",
    "plt.show()"
   ]
  },
  {
   "cell_type": "markdown",
   "metadata": {},
   "source": [
    "Most of the salaries are expected to be much lower than predicted, which points to a trend within the NBA that teams seem to pay players more than what their production indicates they are worth."
   ]
  },
  {
   "cell_type": "markdown",
   "metadata": {},
   "source": [
    "### sklearn's Ridge regression model with scaled data using GridSearchCV"
   ]
  },
  {
   "cell_type": "code",
   "execution_count": 56,
   "metadata": {},
   "outputs": [
    {
     "name": "stdout",
     "output_type": "stream",
     "text": [
      "Best alpha: 10.5\n",
      "R^2 of best alpha: 0.3255239242834003\n"
     ]
    }
   ],
   "source": [
    "# ridge regression model\n",
    "ridge = Ridge()\n",
    "\n",
    "# alpha hyperparameter\n",
    "param_grid = {'alpha':np.arange(0,100,0.1)}\n",
    "ridge_cv = GridSearchCV(ridge, param_grid=param_grid, cv=5, n_jobs=-1)\n",
    "ridge_cv.fit(new_X_train_scaled, new_y_train)\n",
    "\n",
    "best_alpha = ridge_cv.best_params_['alpha']\n",
    "best_score = ridge_cv.best_score_\n",
    "\n",
    "print('Best alpha:', best_alpha)\n",
    "print('R^2 of best alpha:', best_score)"
   ]
  },
  {
   "cell_type": "markdown",
   "metadata": {},
   "source": [
    "Just as with the new elastic net model, this new ridge model seemingly performed worse and used different hyperparameters. The previous ridge model used alpha=13.9."
   ]
  },
  {
   "cell_type": "code",
   "execution_count": 57,
   "metadata": {},
   "outputs": [
    {
     "data": {
      "image/png": "[encoded data removed]",
      "text/plain": [
       "<Figure size 432x288 with 1 Axes>"
      ]
     },
     "metadata": {},
     "output_type": "display_data"
    }
   ],
   "source": [
    "ridge = Ridge(alpha=10.5)\n",
    "\n",
    "features = new_X_train.columns\n",
    "ridge_coef = ridge.fit(new_X_train_scaled, new_y_train).coef_\n",
    "\n",
    "plt.plot(range(len(features)), ridge_coef)\n",
    "plt.xticks(range(len(features)), features, rotation=60)\n",
    "plt.ylabel('Coefficients')\n",
    "plt.xlabel('Features')\n",
    "plt.show()"
   ]
  },
  {
   "cell_type": "markdown",
   "metadata": {},
   "source": [
    "Free throw percentage (FT%) also has greater importance to this model than in the previous ridge model."
   ]
  },
  {
   "cell_type": "code",
   "execution_count": 58,
   "metadata": {},
   "outputs": [
    {
     "name": "stdout",
     "output_type": "stream",
     "text": [
      "R^2 (actual and predicted training salaries): 0.5530187068712318\n",
      "R^2 (actual and predicted testing salaries): 0.48293401651176193\n",
      "\n",
      "Adjusted R^2 (actual and predicted training data): 0.21789476326479396\n",
      "Adjusted R^2 (actual and predicted testing data): 0.2405593367516503\n",
      "\n",
      "Mean absolute error (actual and predicted training salaries): 3609410.2864671573\n",
      "Mean absolute error (actual and predicted testing salaries): 3275991.7954211268\n",
      "\n",
      "Root mean squared error (actual and predicted training salaries): 4440603.97636227\n",
      "Root mean squared error (actual and predicted testing salaries): 4224446.5756997345\n"
     ]
    }
   ],
   "source": [
    "new_y_pred_train = ridge_cv.predict(new_X_train_scaled)\n",
    "new_y_pred_test = ridge_cv.predict(new_X_test_scaled)\n",
    "\n",
    "r_squared_train = r2_score(new_y_train, new_y_pred_train)\n",
    "print('R^2 (actual and predicted training salaries):', r_squared_train)\n",
    "r_squared_test = r2_score(new_y_test, new_y_pred_test)\n",
    "print('R^2 (actual and predicted testing salaries):', r_squared_test)\n",
    "\n",
    "adj_r_squared_train = adjusted_r2(best_score, n_train, p_train)\n",
    "print('\\nAdjusted R^2 (actual and predicted training data):', adj_r_squared_train)\n",
    "adj_r_squared_test = adjusted_r2(r_squared_test, n_test, p_test)\n",
    "print('Adjusted R^2 (actual and predicted testing data):', adj_r_squared_test)\n",
    "\n",
    "MAE_train = mean_absolute_error(new_y_train, new_y_pred_train)\n",
    "print('\\nMean absolute error (actual and predicted training salaries):', MAE_train)\n",
    "MAE_test = mean_absolute_error(new_y_test, new_y_pred_test)\n",
    "print('Mean absolute error (actual and predicted testing salaries):', MAE_test)\n",
    "\n",
    "RMSE_train = mean_squared_error(new_y_train, new_y_pred_train, squared=False)\n",
    "print('\\nRoot mean squared error (actual and predicted training salaries):', RMSE_train)\n",
    "RMSE_test = mean_squared_error(new_y_test, new_y_pred_test, squared=False)\n",
    "print('Root mean squared error (actual and predicted testing salaries):', RMSE_test)"
   ]
  },
  {
   "cell_type": "markdown",
   "metadata": {},
   "source": [
    "In a pattern that continues that was totally expected, this new ridge model with the testing data performed better than the previous ridge model that used the original data. The RMSE improved by about \\\\$2 million as well. Additionally, the new ridge model performed marginally better than the new elastic net model along all the metrics."
   ]
  },
  {
   "cell_type": "code",
   "execution_count": 59,
   "metadata": {},
   "outputs": [
    {
     "data": {
      "image/png": "[encoded data removed]",
      "text/plain": [
       "<Figure size 432x288 with 1 Axes>"
      ]
     },
     "metadata": {},
     "output_type": "display_data"
    }
   ],
   "source": [
    "plt.scatter(new_y_test, new_y_pred_test)\n",
    "plt.xlabel('Actual test salaries')\n",
    "plt.ylabel('Predicted test salaries')\n",
    "plt.show()"
   ]
  },
  {
   "cell_type": "markdown",
   "metadata": {},
   "source": [
    "### sklearn's RandomForest regression model with scaled data using GridSearchCV"
   ]
  },
  {
   "cell_type": "code",
   "execution_count": 60,
   "metadata": {},
   "outputs": [
    {
     "name": "stdout",
     "output_type": "stream",
     "text": [
      "Best combination: {'bootstrap': True, 'criterion': 'mse', 'n_estimators': 50}\n",
      "R^2 of best combo: 0.21833005328158067\n"
     ]
    }
   ],
   "source": [
    "# RandomForest regression model\n",
    "rfg = RandomForestRegressor(random_state=77)\n",
    "\n",
    "# hyperparameters\n",
    "param_grid = {'n_estimators':np.arange(10,110,10), \n",
    "              'criterion':['mse','mae'], \n",
    "              'bootstrap':[True, False]}\n",
    "rfg_cv = GridSearchCV(rfg, param_grid=param_grid, cv=5, n_jobs=-1)\n",
    "\n",
    "# used np.ravel on new_y_train to convert it from a column vector to a 1d array\n",
    "rfg_cv.fit(new_X_train_scaled, np.ravel(new_y_train))\n",
    "\n",
    "best_combo = rfg_cv.best_params_\n",
    "best_score = rfg_cv.best_score_\n",
    "\n",
    "print('Best combination:', best_combo)\n",
    "print('R^2 of best combo:', best_score)"
   ]
  },
  {
   "cell_type": "markdown",
   "metadata": {},
   "source": [
    "Once again the hyperparameters were somewhat similar and the mean R^2 (GridSearchCV) was much worse. The original random forest model had an R^2 of approximately 0.441. Also, the original hyperparameters were bootstrap=True, criterion=mae and n_estimators=20."
   ]
  },
  {
   "cell_type": "code",
   "execution_count": 61,
   "metadata": {},
   "outputs": [
    {
     "name": "stdout",
     "output_type": "stream",
     "text": [
      "R^2 (actual and predicted training salaries): 0.915468956106599\n",
      "R^2 (actual and predicted testing salaries): 0.47112928194518755\n",
      "\n",
      "Adjusted R^2 (actual and predicted training data): 0.09359548731587541\n",
      "Adjusted R^2 (actual and predicted testing data): 0.2232211328569942\n",
      "\n",
      "Mean absolute error (actual and predicted training salaries): 1474121.4861629636\n",
      "Mean absolute error (actual and predicted testing salaries): 3419278.9080598294\n",
      "\n",
      "Root mean squared error (actual and predicted training salaries): 1931103.210123439\n",
      "Root mean squared error (actual and predicted testing salaries): 4272396.980846461\n"
     ]
    }
   ],
   "source": [
    "rfg = RandomForestRegressor(random_state=77, \n",
    "                            n_estimators=50,\n",
    "                            criterion='mse',\n",
    "                            bootstrap=True)\n",
    "rfg.fit(new_X_train_scaled, np.ravel(new_y_train))\n",
    "                            \n",
    "new_y_pred_train = rfg.predict(new_X_train_scaled)\n",
    "new_y_pred_test = rfg.predict(new_X_test_scaled)\n",
    "\n",
    "r_squared_train = r2_score(new_y_train, new_y_pred_train)\n",
    "print('R^2 (actual and predicted training salaries):', r_squared_train)\n",
    "r_squared_test = r2_score(new_y_test, new_y_pred_test)\n",
    "print('R^2 (actual and predicted testing salaries):', r_squared_test)\n",
    "\n",
    "adj_r_squared_train = adjusted_r2(best_score, n_train, p_train)\n",
    "print('\\nAdjusted R^2 (actual and predicted training data):', adj_r_squared_train)\n",
    "adj_r_squared_test = adjusted_r2(r_squared_test, n_test, p_test)\n",
    "print('Adjusted R^2 (actual and predicted testing data):', adj_r_squared_test)\n",
    "\n",
    "MAE_train = mean_absolute_error(new_y_train, new_y_pred_train)\n",
    "print('\\nMean absolute error (actual and predicted training salaries):', MAE_train)\n",
    "MAE_test = mean_absolute_error(new_y_test, new_y_pred_test)\n",
    "print('Mean absolute error (actual and predicted testing salaries):', MAE_test)\n",
    "\n",
    "RMSE_train = mean_squared_error(new_y_train, new_y_pred_train, squared=False)\n",
    "print('\\nRoot mean squared error (actual and predicted training salaries):', RMSE_train)\n",
    "RMSE_test = mean_squared_error(new_y_test, new_y_pred_test, squared=False)\n",
    "print('Root mean squared error (actual and predicted testing salaries):', RMSE_test)"
   ]
  },
  {
   "cell_type": "markdown",
   "metadata": {},
   "source": [
    "This new random forest model did not perform as well than the new ridge model despite the fact that it did perform better than the original random forest model."
   ]
  },
  {
   "cell_type": "code",
   "execution_count": 62,
   "metadata": {},
   "outputs": [
    {
     "data": {
      "image/png": "[encoded data removed]",
      "text/plain": [
       "<Figure size 432x288 with 1 Axes>"
      ]
     },
     "metadata": {},
     "output_type": "display_data"
    }
   ],
   "source": [
    "plt.scatter(new_y_test, new_y_pred_test)\n",
    "plt.xlabel('Actual test salaries')\n",
    "plt.ylabel('Predicted test salaries')\n",
    "plt.show()"
   ]
  },
  {
   "cell_type": "markdown",
   "metadata": {},
   "source": [
    "The random forest model predictions produced a visibly better scatterplot than either of the previous two models."
   ]
  },
  {
   "cell_type": "markdown",
   "metadata": {},
   "source": [
    "# New Model Metrics"
   ]
  },
  {
   "cell_type": "markdown",
   "metadata": {},
   "source": [
    "**models**-*metrics* | *mean R^2 (GridSearchCV)* | *R^2 (train)* | *R^2 (test)* | *Adjusted R^2 (train)* | *Adjusted R^2 (test)* | *MAE (train)* | *MAE (test)* | *RMSE (train)* | *RMSE (test)*\n",
    ":----------|:----------:|:----------:|:----------:|:----------:|:----------:|:----------:|:----------:|:----------:|:----------:\n",
    "**ElasticNet Regression (scaled)** | 0.3255089928 | 0.5455805423 | 0.4821033177 | 0.2178774491 | 0.2393392479 | 3644945.945 | 3290803.783 | 4477399.322 | 4227838.632\n",
    "**Ridge Regression (scaled)** | 0.3255239243 | 0.5530187069 | 0.4829340165 | 0.2178947633 | 0.2405593368 | 3609410.286 | 3275991.795 | 4440603.976 | 4224446.576\n",
    "**RandomForestRegressor (scaled)** | 0.2183300533 | 0.9154689561 | 0.4711292819 | 0.09359548732 | 0.2232211329 | 1474121.486 | 3419278.908 | 1931103.21 | 4272396.981"
   ]
  },
  {
   "cell_type": "markdown",
   "metadata": {},
   "source": [
    "The best performing model of the best performing models used on the data that didn't include salaries under \\\\$5 million and salaries greater than \\\\$30 million turned out to be the ridge regression model."
   ]
  }
 ],
 "metadata": {
  "kernelspec": {
   "display_name": "Python 3",
   "language": "python",
   "name": "python3"
  },
  "language_info": {
   "codemirror_mode": {
    "name": "ipython",
    "version": 3
   },
   "file_extension": ".py",
   "mimetype": "text/x-python",
   "name": "python",
   "nbconvert_exporter": "python",
   "pygments_lexer": "ipython3",
   "version": "3.8.5"
  }
 },
 "nbformat": 4,
 "nbformat_minor": 4
}
