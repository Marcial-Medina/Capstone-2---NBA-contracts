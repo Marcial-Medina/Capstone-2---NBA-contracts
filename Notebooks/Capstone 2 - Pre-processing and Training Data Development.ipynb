{
 "cells": [
  {
   "cell_type": "markdown",
   "metadata": {},
   "source": [
    "# Imports"
   ]
  },
  {
   "cell_type": "code",
   "execution_count": 1,
   "metadata": {},
   "outputs": [],
   "source": [
    "import pandas as pd\n",
    "import os\n",
    "from sklearn.model_selection import train_test_split"
   ]
  },
  {
   "cell_type": "markdown",
   "metadata": {},
   "source": [
    "# Load the data"
   ]
  },
  {
   "cell_type": "code",
   "execution_count": 2,
   "metadata": {},
   "outputs": [
    {
     "data": {
      "text/html": [
       "<div>\n",
       "<style scoped>\n",
       "    .dataframe tbody tr th:only-of-type {\n",
       "        vertical-align: middle;\n",
       "    }\n",
       "\n",
       "    .dataframe tbody tr th {\n",
       "        vertical-align: top;\n",
       "    }\n",
       "\n",
       "    .dataframe thead th {\n",
       "        text-align: right;\n",
       "    }\n",
       "</style>\n",
       "<table border=\"1\" class=\"dataframe\">\n",
       "  <thead>\n",
       "    <tr style=\"text-align: right;\">\n",
       "      <th></th>\n",
       "      <th>NAME</th>\n",
       "      <th>SEASON</th>\n",
       "      <th>PTS</th>\n",
       "      <th>REB</th>\n",
       "      <th>AST</th>\n",
       "      <th>BLK</th>\n",
       "      <th>STL</th>\n",
       "      <th>G</th>\n",
       "      <th>FG%</th>\n",
       "      <th>3P%</th>\n",
       "      <th>FT%</th>\n",
       "      <th>TS%</th>\n",
       "      <th>USG%</th>\n",
       "      <th>PER</th>\n",
       "      <th>WS</th>\n",
       "      <th>BPM</th>\n",
       "      <th>VORP</th>\n",
       "      <th>SALARY</th>\n",
       "    </tr>\n",
       "  </thead>\n",
       "  <tbody>\n",
       "    <tr>\n",
       "      <th>0</th>\n",
       "      <td>Patrick Patterson</td>\n",
       "      <td>2017-2018</td>\n",
       "      <td>318.0</td>\n",
       "      <td>193.0</td>\n",
       "      <td>57.0</td>\n",
       "      <td>23.0</td>\n",
       "      <td>48.0</td>\n",
       "      <td>82</td>\n",
       "      <td>0.398</td>\n",
       "      <td>0.386</td>\n",
       "      <td>0.870</td>\n",
       "      <td>0.555</td>\n",
       "      <td>10.8</td>\n",
       "      <td>10.0</td>\n",
       "      <td>2.6</td>\n",
       "      <td>-1.3</td>\n",
       "      <td>0.2</td>\n",
       "      <td>4.325064e+06</td>\n",
       "    </tr>\n",
       "    <tr>\n",
       "      <th>1</th>\n",
       "      <td>E'Twaun Moore</td>\n",
       "      <td>2017-2018</td>\n",
       "      <td>1022.0</td>\n",
       "      <td>238.0</td>\n",
       "      <td>187.0</td>\n",
       "      <td>12.0</td>\n",
       "      <td>79.0</td>\n",
       "      <td>82</td>\n",
       "      <td>0.508</td>\n",
       "      <td>0.425</td>\n",
       "      <td>0.706</td>\n",
       "      <td>0.593</td>\n",
       "      <td>16.1</td>\n",
       "      <td>12.1</td>\n",
       "      <td>4.4</td>\n",
       "      <td>-0.2</td>\n",
       "      <td>1.2</td>\n",
       "      <td>8.680000e+06</td>\n",
       "    </tr>\n",
       "    <tr>\n",
       "      <th>2</th>\n",
       "      <td>Bismack Biyombo</td>\n",
       "      <td>2017-2018</td>\n",
       "      <td>468.0</td>\n",
       "      <td>468.0</td>\n",
       "      <td>66.0</td>\n",
       "      <td>95.0</td>\n",
       "      <td>21.0</td>\n",
       "      <td>82</td>\n",
       "      <td>0.520</td>\n",
       "      <td>0.000</td>\n",
       "      <td>0.650</td>\n",
       "      <td>0.556</td>\n",
       "      <td>14.9</td>\n",
       "      <td>14.1</td>\n",
       "      <td>2.9</td>\n",
       "      <td>-1.6</td>\n",
       "      <td>0.2</td>\n",
       "      <td>1.700000e+07</td>\n",
       "    </tr>\n",
       "    <tr>\n",
       "      <th>3</th>\n",
       "      <td>Khris Middleton</td>\n",
       "      <td>2017-2018</td>\n",
       "      <td>1652.0</td>\n",
       "      <td>429.0</td>\n",
       "      <td>328.0</td>\n",
       "      <td>21.0</td>\n",
       "      <td>119.0</td>\n",
       "      <td>82</td>\n",
       "      <td>0.466</td>\n",
       "      <td>0.359</td>\n",
       "      <td>0.884</td>\n",
       "      <td>0.577</td>\n",
       "      <td>24.6</td>\n",
       "      <td>17.4</td>\n",
       "      <td>6.9</td>\n",
       "      <td>0.4</td>\n",
       "      <td>1.8</td>\n",
       "      <td>1.752069e+07</td>\n",
       "    </tr>\n",
       "    <tr>\n",
       "      <th>4</th>\n",
       "      <td>Cory Joseph</td>\n",
       "      <td>2017-2018</td>\n",
       "      <td>649.0</td>\n",
       "      <td>263.0</td>\n",
       "      <td>260.0</td>\n",
       "      <td>18.0</td>\n",
       "      <td>80.0</td>\n",
       "      <td>82</td>\n",
       "      <td>0.424</td>\n",
       "      <td>0.353</td>\n",
       "      <td>0.745</td>\n",
       "      <td>0.503</td>\n",
       "      <td>14.8</td>\n",
       "      <td>11.0</td>\n",
       "      <td>3.1</td>\n",
       "      <td>-1.2</td>\n",
       "      <td>0.5</td>\n",
       "      <td>7.472500e+06</td>\n",
       "    </tr>\n",
       "    <tr>\n",
       "      <th>5</th>\n",
       "      <td>Jordan Clarkson</td>\n",
       "      <td>2017-2018</td>\n",
       "      <td>1124.0</td>\n",
       "      <td>217.0</td>\n",
       "      <td>221.0</td>\n",
       "      <td>6.0</td>\n",
       "      <td>58.0</td>\n",
       "      <td>81</td>\n",
       "      <td>0.451</td>\n",
       "      <td>0.352</td>\n",
       "      <td>0.800</td>\n",
       "      <td>0.542</td>\n",
       "      <td>26.5</td>\n",
       "      <td>16.4</td>\n",
       "      <td>3.0</td>\n",
       "      <td>-1.9</td>\n",
       "      <td>0.1</td>\n",
       "      <td>1.250000e+07</td>\n",
       "    </tr>\n",
       "    <tr>\n",
       "      <th>6</th>\n",
       "      <td>Thaddeus Young</td>\n",
       "      <td>2017-2018</td>\n",
       "      <td>955.0</td>\n",
       "      <td>512.0</td>\n",
       "      <td>152.0</td>\n",
       "      <td>36.0</td>\n",
       "      <td>135.0</td>\n",
       "      <td>81</td>\n",
       "      <td>0.487</td>\n",
       "      <td>0.320</td>\n",
       "      <td>0.598</td>\n",
       "      <td>0.528</td>\n",
       "      <td>17.3</td>\n",
       "      <td>14.8</td>\n",
       "      <td>5.5</td>\n",
       "      <td>1.5</td>\n",
       "      <td>2.3</td>\n",
       "      <td>1.250000e+07</td>\n",
       "    </tr>\n",
       "    <tr>\n",
       "      <th>7</th>\n",
       "      <td>Dwight Howard</td>\n",
       "      <td>2017-2018</td>\n",
       "      <td>1347.0</td>\n",
       "      <td>1012.0</td>\n",
       "      <td>105.0</td>\n",
       "      <td>131.0</td>\n",
       "      <td>48.0</td>\n",
       "      <td>81</td>\n",
       "      <td>0.555</td>\n",
       "      <td>0.143</td>\n",
       "      <td>0.574</td>\n",
       "      <td>0.577</td>\n",
       "      <td>24.2</td>\n",
       "      <td>20.5</td>\n",
       "      <td>6.8</td>\n",
       "      <td>-0.3</td>\n",
       "      <td>1.1</td>\n",
       "      <td>2.375224e+07</td>\n",
       "    </tr>\n",
       "    <tr>\n",
       "      <th>8</th>\n",
       "      <td>Jeremy Lamb</td>\n",
       "      <td>2017-2018</td>\n",
       "      <td>1033.0</td>\n",
       "      <td>324.0</td>\n",
       "      <td>186.0</td>\n",
       "      <td>32.0</td>\n",
       "      <td>61.0</td>\n",
       "      <td>80</td>\n",
       "      <td>0.457</td>\n",
       "      <td>0.370</td>\n",
       "      <td>0.861</td>\n",
       "      <td>0.559</td>\n",
       "      <td>22.4</td>\n",
       "      <td>17.0</td>\n",
       "      <td>4.9</td>\n",
       "      <td>0.9</td>\n",
       "      <td>1.5</td>\n",
       "      <td>7.000000e+06</td>\n",
       "    </tr>\n",
       "    <tr>\n",
       "      <th>9</th>\n",
       "      <td>Bojan Bogdanovic</td>\n",
       "      <td>2017-2018</td>\n",
       "      <td>1141.0</td>\n",
       "      <td>270.0</td>\n",
       "      <td>119.0</td>\n",
       "      <td>8.0</td>\n",
       "      <td>55.0</td>\n",
       "      <td>80</td>\n",
       "      <td>0.474</td>\n",
       "      <td>0.402</td>\n",
       "      <td>0.868</td>\n",
       "      <td>0.605</td>\n",
       "      <td>19.0</td>\n",
       "      <td>13.9</td>\n",
       "      <td>5.4</td>\n",
       "      <td>-0.7</td>\n",
       "      <td>0.8</td>\n",
       "      <td>1.050000e+07</td>\n",
       "    </tr>\n",
       "  </tbody>\n",
       "</table>\n",
       "</div>"
      ],
      "text/plain": [
       "                NAME     SEASON     PTS     REB    AST    BLK    STL   G  \\\n",
       "0  Patrick Patterson  2017-2018   318.0   193.0   57.0   23.0   48.0  82   \n",
       "1      E'Twaun Moore  2017-2018  1022.0   238.0  187.0   12.0   79.0  82   \n",
       "2    Bismack Biyombo  2017-2018   468.0   468.0   66.0   95.0   21.0  82   \n",
       "3    Khris Middleton  2017-2018  1652.0   429.0  328.0   21.0  119.0  82   \n",
       "4        Cory Joseph  2017-2018   649.0   263.0  260.0   18.0   80.0  82   \n",
       "5    Jordan Clarkson  2017-2018  1124.0   217.0  221.0    6.0   58.0  81   \n",
       "6     Thaddeus Young  2017-2018   955.0   512.0  152.0   36.0  135.0  81   \n",
       "7      Dwight Howard  2017-2018  1347.0  1012.0  105.0  131.0   48.0  81   \n",
       "8        Jeremy Lamb  2017-2018  1033.0   324.0  186.0   32.0   61.0  80   \n",
       "9   Bojan Bogdanovic  2017-2018  1141.0   270.0  119.0    8.0   55.0  80   \n",
       "\n",
       "     FG%    3P%    FT%    TS%  USG%   PER   WS  BPM  VORP        SALARY  \n",
       "0  0.398  0.386  0.870  0.555  10.8  10.0  2.6 -1.3   0.2  4.325064e+06  \n",
       "1  0.508  0.425  0.706  0.593  16.1  12.1  4.4 -0.2   1.2  8.680000e+06  \n",
       "2  0.520  0.000  0.650  0.556  14.9  14.1  2.9 -1.6   0.2  1.700000e+07  \n",
       "3  0.466  0.359  0.884  0.577  24.6  17.4  6.9  0.4   1.8  1.752069e+07  \n",
       "4  0.424  0.353  0.745  0.503  14.8  11.0  3.1 -1.2   0.5  7.472500e+06  \n",
       "5  0.451  0.352  0.800  0.542  26.5  16.4  3.0 -1.9   0.1  1.250000e+07  \n",
       "6  0.487  0.320  0.598  0.528  17.3  14.8  5.5  1.5   2.3  1.250000e+07  \n",
       "7  0.555  0.143  0.574  0.577  24.2  20.5  6.8 -0.3   1.1  2.375224e+07  \n",
       "8  0.457  0.370  0.861  0.559  22.4  17.0  4.9  0.9   1.5  7.000000e+06  \n",
       "9  0.474  0.402  0.868  0.605  19.0  13.9  5.4 -0.7   0.8  1.050000e+07  "
      ]
     },
     "execution_count": 2,
     "metadata": {},
     "output_type": "execute_result"
    }
   ],
   "source": [
    "nba_data = pd.read_csv('../data/nba_data.csv', index_col=0)\n",
    "nba_data.head(10)"
   ]
  },
  {
   "cell_type": "markdown",
   "metadata": {},
   "source": [
    "# Train/Test split"
   ]
  },
  {
   "cell_type": "code",
   "execution_count": 3,
   "metadata": {},
   "outputs": [],
   "source": [
    "X_train, X_test, y_train, y_test = train_test_split(nba_data.drop(columns='SALARY'), nba_data.SALARY, test_size = 0.3, random_state=77)"
   ]
  },
  {
   "cell_type": "code",
   "execution_count": 4,
   "metadata": {},
   "outputs": [
    {
     "data": {
      "text/plain": [
       "((110, 17), (48, 17), (110,), (48,))"
      ]
     },
     "execution_count": 4,
     "metadata": {},
     "output_type": "execute_result"
    }
   ],
   "source": [
    "X_train.shape, X_test.shape, y_train.shape, y_test.shape"
   ]
  },
  {
   "cell_type": "markdown",
   "metadata": {},
   "source": [
    "Here I split the data into 2 groups, training data and testing data and also split those two groups into two more groups, features and labels. The featues are the player statistics that will be used to predict the label which in this case is the salary the player earned the year those stats were recorded. The training data will be used to train the models while the testing data will be used to test those models. I also checked the shape of the 4 groups of data to ensure they are correct."
   ]
  },
  {
   "cell_type": "code",
   "execution_count": 5,
   "metadata": {},
   "outputs": [
    {
     "data": {
      "text/plain": [
       "((110, 15), (48, 15))"
      ]
     },
     "execution_count": 5,
     "metadata": {},
     "output_type": "execute_result"
    }
   ],
   "source": [
    "name_and_season_list = ['NAME', 'SEASON']\n",
    "name_and_season_train = X_train[name_and_season_list]\n",
    "name_and_season_test = X_test[name_and_season_list]\n",
    "X_train.drop(columns=name_and_season_list, inplace=True)\n",
    "X_test.drop(columns=name_and_season_list, inplace=True)\n",
    "X_train.shape, X_test.shape"
   ]
  },
  {
   "cell_type": "markdown",
   "metadata": {},
   "source": [
    "Here I saved the 'NAME' and \"SEASON' columns from the train and test data. Then I removed those columns from the train and test data and once again checked the shape of these two groups."
   ]
  },
  {
   "cell_type": "code",
   "execution_count": 6,
   "metadata": {},
   "outputs": [
    {
     "data": {
      "text/plain": [
       "PTS     float64\n",
       "REB     float64\n",
       "AST     float64\n",
       "BLK     float64\n",
       "STL     float64\n",
       "G         int64\n",
       "FG%     float64\n",
       "3P%     float64\n",
       "FT%     float64\n",
       "TS%     float64\n",
       "USG%    float64\n",
       "PER     float64\n",
       "WS      float64\n",
       "BPM     float64\n",
       "VORP    float64\n",
       "dtype: object"
      ]
     },
     "execution_count": 6,
     "metadata": {},
     "output_type": "execute_result"
    }
   ],
   "source": [
    "X_train.dtypes"
   ]
  },
  {
   "cell_type": "code",
   "execution_count": 7,
   "metadata": {},
   "outputs": [
    {
     "data": {
      "text/plain": [
       "PTS     float64\n",
       "REB     float64\n",
       "AST     float64\n",
       "BLK     float64\n",
       "STL     float64\n",
       "G         int64\n",
       "FG%     float64\n",
       "3P%     float64\n",
       "FT%     float64\n",
       "TS%     float64\n",
       "USG%    float64\n",
       "PER     float64\n",
       "WS      float64\n",
       "BPM     float64\n",
       "VORP    float64\n",
       "dtype: object"
      ]
     },
     "execution_count": 7,
     "metadata": {},
     "output_type": "execute_result"
    }
   ],
   "source": [
    "X_test.dtypes"
   ]
  },
  {
   "cell_type": "markdown",
   "metadata": {},
   "source": [
    "This ensures that all the features in the train and test groups are numeric."
   ]
  },
  {
   "cell_type": "markdown",
   "metadata": {},
   "source": [
    "# Save the data"
   ]
  },
  {
   "cell_type": "code",
   "execution_count": 8,
   "metadata": {},
   "outputs": [],
   "source": [
    "X_train.to_csv(r'..\\data\\X_train.csv')\n",
    "y_train.to_csv(r'..\\data\\y_train.csv')\n",
    "X_test.to_csv(r'..\\data\\X_test.csv')\n",
    "y_test.to_csv(r'..\\data\\y_test.csv')"
   ]
  }
 ],
 "metadata": {
  "kernelspec": {
   "display_name": "Python 3",
   "language": "python",
   "name": "python3"
  },
  "language_info": {
   "codemirror_mode": {
    "name": "ipython",
    "version": 3
   },
   "file_extension": ".py",
   "mimetype": "text/x-python",
   "name": "python",
   "nbconvert_exporter": "python",
   "pygments_lexer": "ipython3",
   "version": "3.8.5"
  }
 },
 "nbformat": 4,
 "nbformat_minor": 4
}
