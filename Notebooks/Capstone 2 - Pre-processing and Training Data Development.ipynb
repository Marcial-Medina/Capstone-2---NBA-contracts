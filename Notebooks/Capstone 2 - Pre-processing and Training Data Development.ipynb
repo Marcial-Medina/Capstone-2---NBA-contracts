{
 "cells": [
  {
   "cell_type": "markdown",
   "metadata": {},
   "source": [
    "# Imports"
   ]
  },
  {
   "cell_type": "code",
   "execution_count": 1,
   "metadata": {},
   "outputs": [],
   "source": [
    "import pandas as pd\n",
    "import numpy as np\n",
    "import os\n",
    "import pickle\n",
    "import datetime\n",
    "import matplotlib.pyplot as plt\n",
    "%matplotlib inline\n",
    "import seaborn as sns\n",
    "sns.set()\n",
    "from sklearn.pipeline import Pipeline\n",
    "from sklearn.model_selection import train_test_split, cross_validate, GridSearchCV\n",
    "from sklearn.dummy import DummyRegressor\n",
    "from sklearn.linear_model import LinearRegression, Ridge, Lasso, ElasticNet\n",
    "from sklearn.preprocessing import StandardScaler\n",
    "from sklearn.metrics import r2_score, mean_squared_error, mean_absolute_error\n",
    "from sklearn import __version__ as sklearn_version"
   ]
  },
  {
   "cell_type": "markdown",
   "metadata": {},
   "source": [
    "# Load the data"
   ]
  },
  {
   "cell_type": "code",
   "execution_count": 2,
   "metadata": {},
   "outputs": [
    {
     "data": {
      "text/html": [
       "<div>\n",
       "<style scoped>\n",
       "    .dataframe tbody tr th:only-of-type {\n",
       "        vertical-align: middle;\n",
       "    }\n",
       "\n",
       "    .dataframe tbody tr th {\n",
       "        vertical-align: top;\n",
       "    }\n",
       "\n",
       "    .dataframe thead th {\n",
       "        text-align: right;\n",
       "    }\n",
       "</style>\n",
       "<table border=\"1\" class=\"dataframe\">\n",
       "  <thead>\n",
       "    <tr style=\"text-align: right;\">\n",
       "      <th></th>\n",
       "      <th>NAME</th>\n",
       "      <th>SEASON</th>\n",
       "      <th>PTS</th>\n",
       "      <th>REB</th>\n",
       "      <th>AST</th>\n",
       "      <th>BLK</th>\n",
       "      <th>STL</th>\n",
       "      <th>G</th>\n",
       "      <th>FG%</th>\n",
       "      <th>3P%</th>\n",
       "      <th>FT%</th>\n",
       "      <th>TS%</th>\n",
       "      <th>USG%</th>\n",
       "      <th>PER</th>\n",
       "      <th>WS</th>\n",
       "      <th>BPM</th>\n",
       "      <th>VORP</th>\n",
       "      <th>SALARY</th>\n",
       "    </tr>\n",
       "  </thead>\n",
       "  <tbody>\n",
       "    <tr>\n",
       "      <th>0</th>\n",
       "      <td>Patrick Patterson</td>\n",
       "      <td>2017-2018</td>\n",
       "      <td>318.0</td>\n",
       "      <td>193.0</td>\n",
       "      <td>57.0</td>\n",
       "      <td>23.0</td>\n",
       "      <td>48.0</td>\n",
       "      <td>82</td>\n",
       "      <td>0.398</td>\n",
       "      <td>0.386</td>\n",
       "      <td>0.870</td>\n",
       "      <td>0.555</td>\n",
       "      <td>10.8</td>\n",
       "      <td>10.0</td>\n",
       "      <td>2.6</td>\n",
       "      <td>-1.3</td>\n",
       "      <td>0.2</td>\n",
       "      <td>4.325064e+06</td>\n",
       "    </tr>\n",
       "    <tr>\n",
       "      <th>1</th>\n",
       "      <td>E'Twaun Moore</td>\n",
       "      <td>2017-2018</td>\n",
       "      <td>1022.0</td>\n",
       "      <td>238.0</td>\n",
       "      <td>187.0</td>\n",
       "      <td>12.0</td>\n",
       "      <td>79.0</td>\n",
       "      <td>82</td>\n",
       "      <td>0.508</td>\n",
       "      <td>0.425</td>\n",
       "      <td>0.706</td>\n",
       "      <td>0.593</td>\n",
       "      <td>16.1</td>\n",
       "      <td>12.1</td>\n",
       "      <td>4.4</td>\n",
       "      <td>-0.2</td>\n",
       "      <td>1.2</td>\n",
       "      <td>8.680000e+06</td>\n",
       "    </tr>\n",
       "    <tr>\n",
       "      <th>2</th>\n",
       "      <td>Bismack Biyombo</td>\n",
       "      <td>2017-2018</td>\n",
       "      <td>468.0</td>\n",
       "      <td>468.0</td>\n",
       "      <td>66.0</td>\n",
       "      <td>95.0</td>\n",
       "      <td>21.0</td>\n",
       "      <td>82</td>\n",
       "      <td>0.520</td>\n",
       "      <td>0.000</td>\n",
       "      <td>0.650</td>\n",
       "      <td>0.556</td>\n",
       "      <td>14.9</td>\n",
       "      <td>14.1</td>\n",
       "      <td>2.9</td>\n",
       "      <td>-1.6</td>\n",
       "      <td>0.2</td>\n",
       "      <td>1.700000e+07</td>\n",
       "    </tr>\n",
       "    <tr>\n",
       "      <th>3</th>\n",
       "      <td>Khris Middleton</td>\n",
       "      <td>2017-2018</td>\n",
       "      <td>1652.0</td>\n",
       "      <td>429.0</td>\n",
       "      <td>328.0</td>\n",
       "      <td>21.0</td>\n",
       "      <td>119.0</td>\n",
       "      <td>82</td>\n",
       "      <td>0.466</td>\n",
       "      <td>0.359</td>\n",
       "      <td>0.884</td>\n",
       "      <td>0.577</td>\n",
       "      <td>24.6</td>\n",
       "      <td>17.4</td>\n",
       "      <td>6.9</td>\n",
       "      <td>0.4</td>\n",
       "      <td>1.8</td>\n",
       "      <td>1.752069e+07</td>\n",
       "    </tr>\n",
       "    <tr>\n",
       "      <th>4</th>\n",
       "      <td>Cory Joseph</td>\n",
       "      <td>2017-2018</td>\n",
       "      <td>649.0</td>\n",
       "      <td>263.0</td>\n",
       "      <td>260.0</td>\n",
       "      <td>18.0</td>\n",
       "      <td>80.0</td>\n",
       "      <td>82</td>\n",
       "      <td>0.424</td>\n",
       "      <td>0.353</td>\n",
       "      <td>0.745</td>\n",
       "      <td>0.503</td>\n",
       "      <td>14.8</td>\n",
       "      <td>11.0</td>\n",
       "      <td>3.1</td>\n",
       "      <td>-1.2</td>\n",
       "      <td>0.5</td>\n",
       "      <td>7.472500e+06</td>\n",
       "    </tr>\n",
       "    <tr>\n",
       "      <th>5</th>\n",
       "      <td>Jordan Clarkson</td>\n",
       "      <td>2017-2018</td>\n",
       "      <td>1124.0</td>\n",
       "      <td>217.0</td>\n",
       "      <td>221.0</td>\n",
       "      <td>6.0</td>\n",
       "      <td>58.0</td>\n",
       "      <td>81</td>\n",
       "      <td>0.451</td>\n",
       "      <td>0.352</td>\n",
       "      <td>0.800</td>\n",
       "      <td>0.542</td>\n",
       "      <td>26.5</td>\n",
       "      <td>16.4</td>\n",
       "      <td>3.0</td>\n",
       "      <td>-1.9</td>\n",
       "      <td>0.1</td>\n",
       "      <td>1.250000e+07</td>\n",
       "    </tr>\n",
       "    <tr>\n",
       "      <th>6</th>\n",
       "      <td>Thaddeus Young</td>\n",
       "      <td>2017-2018</td>\n",
       "      <td>955.0</td>\n",
       "      <td>512.0</td>\n",
       "      <td>152.0</td>\n",
       "      <td>36.0</td>\n",
       "      <td>135.0</td>\n",
       "      <td>81</td>\n",
       "      <td>0.487</td>\n",
       "      <td>0.320</td>\n",
       "      <td>0.598</td>\n",
       "      <td>0.528</td>\n",
       "      <td>17.3</td>\n",
       "      <td>14.8</td>\n",
       "      <td>5.5</td>\n",
       "      <td>1.5</td>\n",
       "      <td>2.3</td>\n",
       "      <td>1.250000e+07</td>\n",
       "    </tr>\n",
       "    <tr>\n",
       "      <th>7</th>\n",
       "      <td>Dwight Howard</td>\n",
       "      <td>2017-2018</td>\n",
       "      <td>1347.0</td>\n",
       "      <td>1012.0</td>\n",
       "      <td>105.0</td>\n",
       "      <td>131.0</td>\n",
       "      <td>48.0</td>\n",
       "      <td>81</td>\n",
       "      <td>0.555</td>\n",
       "      <td>0.143</td>\n",
       "      <td>0.574</td>\n",
       "      <td>0.577</td>\n",
       "      <td>24.2</td>\n",
       "      <td>20.5</td>\n",
       "      <td>6.8</td>\n",
       "      <td>-0.3</td>\n",
       "      <td>1.1</td>\n",
       "      <td>2.375224e+07</td>\n",
       "    </tr>\n",
       "    <tr>\n",
       "      <th>8</th>\n",
       "      <td>Jeremy Lamb</td>\n",
       "      <td>2017-2018</td>\n",
       "      <td>1033.0</td>\n",
       "      <td>324.0</td>\n",
       "      <td>186.0</td>\n",
       "      <td>32.0</td>\n",
       "      <td>61.0</td>\n",
       "      <td>80</td>\n",
       "      <td>0.457</td>\n",
       "      <td>0.370</td>\n",
       "      <td>0.861</td>\n",
       "      <td>0.559</td>\n",
       "      <td>22.4</td>\n",
       "      <td>17.0</td>\n",
       "      <td>4.9</td>\n",
       "      <td>0.9</td>\n",
       "      <td>1.5</td>\n",
       "      <td>7.000000e+06</td>\n",
       "    </tr>\n",
       "    <tr>\n",
       "      <th>9</th>\n",
       "      <td>Bojan Bogdanovic</td>\n",
       "      <td>2017-2018</td>\n",
       "      <td>1141.0</td>\n",
       "      <td>270.0</td>\n",
       "      <td>119.0</td>\n",
       "      <td>8.0</td>\n",
       "      <td>55.0</td>\n",
       "      <td>80</td>\n",
       "      <td>0.474</td>\n",
       "      <td>0.402</td>\n",
       "      <td>0.868</td>\n",
       "      <td>0.605</td>\n",
       "      <td>19.0</td>\n",
       "      <td>13.9</td>\n",
       "      <td>5.4</td>\n",
       "      <td>-0.7</td>\n",
       "      <td>0.8</td>\n",
       "      <td>1.050000e+07</td>\n",
       "    </tr>\n",
       "  </tbody>\n",
       "</table>\n",
       "</div>"
      ],
      "text/plain": [
       "                NAME     SEASON     PTS     REB    AST    BLK    STL   G  \\\n",
       "0  Patrick Patterson  2017-2018   318.0   193.0   57.0   23.0   48.0  82   \n",
       "1      E'Twaun Moore  2017-2018  1022.0   238.0  187.0   12.0   79.0  82   \n",
       "2    Bismack Biyombo  2017-2018   468.0   468.0   66.0   95.0   21.0  82   \n",
       "3    Khris Middleton  2017-2018  1652.0   429.0  328.0   21.0  119.0  82   \n",
       "4        Cory Joseph  2017-2018   649.0   263.0  260.0   18.0   80.0  82   \n",
       "5    Jordan Clarkson  2017-2018  1124.0   217.0  221.0    6.0   58.0  81   \n",
       "6     Thaddeus Young  2017-2018   955.0   512.0  152.0   36.0  135.0  81   \n",
       "7      Dwight Howard  2017-2018  1347.0  1012.0  105.0  131.0   48.0  81   \n",
       "8        Jeremy Lamb  2017-2018  1033.0   324.0  186.0   32.0   61.0  80   \n",
       "9   Bojan Bogdanovic  2017-2018  1141.0   270.0  119.0    8.0   55.0  80   \n",
       "\n",
       "     FG%    3P%    FT%    TS%  USG%   PER   WS  BPM  VORP        SALARY  \n",
       "0  0.398  0.386  0.870  0.555  10.8  10.0  2.6 -1.3   0.2  4.325064e+06  \n",
       "1  0.508  0.425  0.706  0.593  16.1  12.1  4.4 -0.2   1.2  8.680000e+06  \n",
       "2  0.520  0.000  0.650  0.556  14.9  14.1  2.9 -1.6   0.2  1.700000e+07  \n",
       "3  0.466  0.359  0.884  0.577  24.6  17.4  6.9  0.4   1.8  1.752069e+07  \n",
       "4  0.424  0.353  0.745  0.503  14.8  11.0  3.1 -1.2   0.5  7.472500e+06  \n",
       "5  0.451  0.352  0.800  0.542  26.5  16.4  3.0 -1.9   0.1  1.250000e+07  \n",
       "6  0.487  0.320  0.598  0.528  17.3  14.8  5.5  1.5   2.3  1.250000e+07  \n",
       "7  0.555  0.143  0.574  0.577  24.2  20.5  6.8 -0.3   1.1  2.375224e+07  \n",
       "8  0.457  0.370  0.861  0.559  22.4  17.0  4.9  0.9   1.5  7.000000e+06  \n",
       "9  0.474  0.402  0.868  0.605  19.0  13.9  5.4 -0.7   0.8  1.050000e+07  "
      ]
     },
     "execution_count": 2,
     "metadata": {},
     "output_type": "execute_result"
    }
   ],
   "source": [
    "nba_data = pd.read_csv('../data/nba_data.csv', index_col=0)\n",
    "nba_data.head(10)"
   ]
  },
  {
   "cell_type": "markdown",
   "metadata": {},
   "source": [
    "# Train/Test split"
   ]
  },
  {
   "cell_type": "code",
   "execution_count": 3,
   "metadata": {},
   "outputs": [],
   "source": [
    "X_train, X_test, y_train, y_test = train_test_split(nba_data.drop(columns='SALARY'), nba_data.SALARY, test_size = 0.3, random_state=77)"
   ]
  },
  {
   "cell_type": "code",
   "execution_count": 4,
   "metadata": {},
   "outputs": [
    {
     "data": {
      "text/plain": [
       "((110, 17), (48, 17), (110,), (48,))"
      ]
     },
     "execution_count": 4,
     "metadata": {},
     "output_type": "execute_result"
    }
   ],
   "source": [
    "X_train.shape, X_test.shape, y_train.shape, y_test.shape"
   ]
  },
  {
   "cell_type": "markdown",
   "metadata": {},
   "source": [
    "Here I split the data into 2 groups, training data and testing data and also split those two groups into two more groups, features and labels. The featues are the player statistics that will be used to predict the label which in this case is the salary the player earned the year those stats were recorded. The training data will be used to train the models while the testing data will be used to test those models. I also checked the shape of the 4 groups of data to ensure they are correct."
   ]
  },
  {
   "cell_type": "code",
   "execution_count": 5,
   "metadata": {},
   "outputs": [
    {
     "data": {
      "text/plain": [
       "((110, 15), (48, 15))"
      ]
     },
     "execution_count": 5,
     "metadata": {},
     "output_type": "execute_result"
    }
   ],
   "source": [
    "name_and_season_list = ['NAME', 'SEASON']\n",
    "name_and_season_train = X_train[name_and_season_list]\n",
    "name_and_season_test = X_test[name_and_season_list]\n",
    "X_train.drop(columns=name_and_season_list, inplace=True)\n",
    "X_test.drop(columns=name_and_season_list, inplace=True)\n",
    "X_train.shape, X_test.shape"
   ]
  },
  {
   "cell_type": "markdown",
   "metadata": {},
   "source": [
    "Here I saved the 'NAME' and \"SEASON' columns from the train and test data. Then I removed those columns from the train and test data and once again checked the shape of these two groups."
   ]
  },
  {
   "cell_type": "code",
   "execution_count": 6,
   "metadata": {},
   "outputs": [
    {
     "data": {
      "text/plain": [
       "PTS     float64\n",
       "REB     float64\n",
       "AST     float64\n",
       "BLK     float64\n",
       "STL     float64\n",
       "G         int64\n",
       "FG%     float64\n",
       "3P%     float64\n",
       "FT%     float64\n",
       "TS%     float64\n",
       "USG%    float64\n",
       "PER     float64\n",
       "WS      float64\n",
       "BPM     float64\n",
       "VORP    float64\n",
       "dtype: object"
      ]
     },
     "execution_count": 6,
     "metadata": {},
     "output_type": "execute_result"
    }
   ],
   "source": [
    "X_train.dtypes"
   ]
  },
  {
   "cell_type": "code",
   "execution_count": 7,
   "metadata": {},
   "outputs": [
    {
     "data": {
      "text/plain": [
       "PTS     float64\n",
       "REB     float64\n",
       "AST     float64\n",
       "BLK     float64\n",
       "STL     float64\n",
       "G         int64\n",
       "FG%     float64\n",
       "3P%     float64\n",
       "FT%     float64\n",
       "TS%     float64\n",
       "USG%    float64\n",
       "PER     float64\n",
       "WS      float64\n",
       "BPM     float64\n",
       "VORP    float64\n",
       "dtype: object"
      ]
     },
     "execution_count": 7,
     "metadata": {},
     "output_type": "execute_result"
    }
   ],
   "source": [
    "X_test.dtypes"
   ]
  },
  {
   "cell_type": "markdown",
   "metadata": {},
   "source": [
    "This ensures that all the features in the train and test groups are numeric."
   ]
  },
  {
   "cell_type": "markdown",
   "metadata": {},
   "source": [
    "# Baseline performance model"
   ]
  },
  {
   "cell_type": "markdown",
   "metadata": {},
   "source": [
    "I will start off by first using the mean of the salaries in the training data as a predictor and determining how good this \"model\" is at predicting."
   ]
  },
  {
   "cell_type": "code",
   "execution_count": 8,
   "metadata": {},
   "outputs": [
    {
     "name": "stdout",
     "output_type": "stream",
     "text": [
      "Mean of salaries in training data: [[13713664.98878788]]\n"
     ]
    }
   ],
   "source": [
    "dummy_mean_reg = DummyRegressor(strategy='mean')\n",
    "dummy_mean_reg.fit(X_train, y_train)\n",
    "\n",
    "# this is equal to the mean of the salaries in the training data\n",
    "mean_salary = dummy_mean_reg.constant_\n",
    "print('Mean of salaries in training data:', mean_salary)"
   ]
  },
  {
   "cell_type": "code",
   "execution_count": 9,
   "metadata": {},
   "outputs": [
    {
     "name": "stdout",
     "output_type": "stream",
     "text": [
      "R^2 (actual and predicted training salaries): 0.0\n",
      "R^2 (actual and predicted testing salaries): -0.0011446221634241471\n"
     ]
    }
   ],
   "source": [
    "y_pred_train = dummy_mean_reg.predict(X_train)\n",
    "y_pred_test = dummy_mean_reg.predict(X_test)\n",
    "\n",
    "# R^2: measure of the proportion of variance in the dependent variable (salary) that is predicted by the model\n",
    "r_squared_train = r2_score(y_train, y_pred_train)\n",
    "print('R^2 (actual and predicted training salaries):', r_squared_train)\n",
    "\n",
    "r_squared_test = r2_score(y_test, y_pred_test)\n",
    "print('R^2 (actual and predicted testing salaries):', r_squared_test)"
   ]
  },
  {
   "cell_type": "code",
   "execution_count": 10,
   "metadata": {},
   "outputs": [
    {
     "name": "stdout",
     "output_type": "stream",
     "text": [
      "Mean absolute error (actual and predicted training salaries): 7067479.767663912\n",
      "Mean absolute error (actual and predicted testing salaries): 6951335.557159091\n"
     ]
    }
   ],
   "source": [
    "# MAE: average of the absolute errors\n",
    "MAE_train = mean_absolute_error(y_train, y_pred_train)\n",
    "print('Mean absolute error (actual and predicted training salaries):', MAE_train)\n",
    "\n",
    "MAE_test = mean_absolute_error(y_test, y_pred_test)\n",
    "print('Mean absolute error (actual and predicted testing salaries):', MAE_test)"
   ]
  },
  {
   "cell_type": "code",
   "execution_count": 11,
   "metadata": {},
   "outputs": [
    {
     "name": "stdout",
     "output_type": "stream",
     "text": [
      "Root mean squared error (actual and predicted training salaries): 8290153.791310435\n",
      "Root mean squared error (actual and predicted testing salaries): 8507852.202054001\n"
     ]
    }
   ],
   "source": [
    "# RMSE: square root of average of the square of the errors\n",
    "RMSE_train = mean_squared_error(y_train, y_pred_train, squared=False)\n",
    "print('Root mean squared error (actual and predicted training salaries):', RMSE_train)\n",
    "\n",
    "RMSE_test = mean_squared_error(y_test, y_pred_test, squared=False)\n",
    "print('Root mean squared error (actual and predicted testing salaries):', RMSE_test)"
   ]
  },
  {
   "cell_type": "markdown",
   "metadata": {},
   "source": [
    "The R^2 score between the actual training salaries and the predicted training salaries, which is just the mean of the actual training salaries, is zero. This makes sense. However, the R^2 between the actual testing salaries and the predicted testing salaries is below zero. This also makes sense since R^2 essentially compares the model its scoring with a mean model.\n",
    "\n",
    "As for mean absolute errors indicate that the dummy mean model was off by about \\\\$7 million while the root mean squared errors indicate that the model was of by over \\\\$8 million. These are huge given that the average salary of players in the training group is \\\\$13 million.\n",
    "\n",
    "So it turns out that this model, which is just to guess that the salaries of the test group are the mean of the salaries in the train group, is not accurate at all."
   ]
  },
  {
   "cell_type": "markdown",
   "metadata": {},
   "source": [
    "# Linear regression models"
   ]
  },
  {
   "cell_type": "markdown",
   "metadata": {},
   "source": [
    "### sklearn's Linear Regression model"
   ]
  },
  {
   "cell_type": "code",
   "execution_count": 12,
   "metadata": {},
   "outputs": [
    {
     "name": "stdout",
     "output_type": "stream",
     "text": [
      "R^2 (actual and predicted training salaries): 0.6214726671720141\n",
      "R^2 (actual and predicted testing salaries): 0.38929253413435605\n"
     ]
    }
   ],
   "source": [
    "lin_reg = LinearRegression(normalize=False, n_jobs=-1)\n",
    "lin_reg.fit(X_train, y_train)\n",
    "\n",
    "y_pred_train = lin_reg.predict(X_train)\n",
    "y_pred_test = lin_reg.predict(X_test)\n",
    "\n",
    "r_squared_train = r2_score(y_train, y_pred_train)\n",
    "print('R^2 (actual and predicted training salaries):', r_squared_train)\n",
    "\n",
    "r_squared_test = r2_score(y_test, y_pred_test)\n",
    "print('R^2 (actual and predicted testing salaries):', r_squared_test)"
   ]
  },
  {
   "cell_type": "code",
   "execution_count": 13,
   "metadata": {},
   "outputs": [
    {
     "name": "stdout",
     "output_type": "stream",
     "text": [
      "Adjusted R^2 (actual and predicted training data): 0.5610693693803143\n",
      "Adjusted R^2 (actual and predicted testing data): 0.10302340950983546\n"
     ]
    }
   ],
   "source": [
    "# adjusted R^2: takes into consideration the model's degrees of freedom (amount of features)\n",
    "\n",
    "# function to calculate adjusted R^2\n",
    "def adjusted_r2(r2, n, p):\n",
    "    adj_r_squared = 1-((1-r2)*((n-1)/(n-p-1)))\n",
    "    return adj_r_squared\n",
    "\n",
    "# n is the number of labels in the data\n",
    "n_train = len(X_train)\n",
    "n_test = len(X_test)\n",
    "\n",
    "# p is the number of features in the data (both equal)\n",
    "p_train = len(X_train.columns)\n",
    "p_test = len(X_test.columns)\n",
    "\n",
    "# adjusted R^2\n",
    "adj_r_squared_train = adjusted_r2(r_squared_train, n_train, p_train)\n",
    "print('Adjusted R^2 (actual and predicted training data):', adj_r_squared_train)\n",
    "\n",
    "adj_r_squared_test = adjusted_r2(r_squared_test, n_test, p_test)\n",
    "print('Adjusted R^2 (actual and predicted testing data):', adj_r_squared_test)"
   ]
  },
  {
   "cell_type": "code",
   "execution_count": 14,
   "metadata": {},
   "outputs": [
    {
     "name": "stdout",
     "output_type": "stream",
     "text": [
      "Mean absolute error (actual and predicted training salaries): 3993532.991870239\n",
      "Mean absolute error (actual and predicted testing salaries): 4959487.833597653\n"
     ]
    }
   ],
   "source": [
    "MAE_train = mean_absolute_error(y_train, y_pred_train)\n",
    "print('Mean absolute error (actual and predicted training salaries):', MAE_train)\n",
    "\n",
    "MAE_test = mean_absolute_error(y_test, y_pred_test)\n",
    "print('Mean absolute error (actual and predicted testing salaries):', MAE_test)"
   ]
  },
  {
   "cell_type": "code",
   "execution_count": 15,
   "metadata": {},
   "outputs": [
    {
     "name": "stdout",
     "output_type": "stream",
     "text": [
      "Root mean squared error (actual and predicted training salaries): 5100481.886511694\n",
      "Root mean squared error (actual and predicted testing salaries): 6644895.293701228\n"
     ]
    }
   ],
   "source": [
    "RMSE_train = mean_squared_error(y_train, y_pred_train, squared=False)\n",
    "print('Root mean squared error (actual and predicted training salaries):', RMSE_train)\n",
    "\n",
    "RMSE_test = mean_squared_error(y_test, y_pred_test, squared=False)\n",
    "print('Root mean squared error (actual and predicted testing salaries):', RMSE_test)"
   ]
  },
  {
   "cell_type": "markdown",
   "metadata": {},
   "source": [
    "The linear regression model performed much better than the dummy regression model in all three metrics, as expected. The R^2 for the test salaries was approximately 0.39, which is certainly better but it could be improved. The adjusted R^2, which takes into consideration the model's degrees of freedom was approximately 0.1. This confirms that the model need improvement.\n",
    "\n",
    "The MAE and RMSE for the testing salaries were approximately \\\\$5 million and \\\\$6.6 million respectively. This is much better than the mean model but that is still a lot of money."
   ]
  },
  {
   "cell_type": "code",
   "execution_count": 16,
   "metadata": {},
   "outputs": [
    {
     "data": {
      "image/png": "[encoded data removed]",
      "text/plain": [
       "<Figure size 432x288 with 1 Axes>"
      ]
     },
     "metadata": {},
     "output_type": "display_data"
    }
   ],
   "source": [
    "plt.scatter(y_test, y_pred_test)\n",
    "plt.xlabel('Actual test salaries')\n",
    "plt.ylabel('Predicted test salaries')\n",
    "plt.show()"
   ]
  },
  {
   "cell_type": "markdown",
   "metadata": {},
   "source": [
    "This scatter plot shows how well the predictions match the actual results. The x-axis represents the salaries in the test group while the y-represents the predicted salaries of the test group.\n",
    "\n",
    "There is certainly a positive correlation between the two groups. However, there are a large set of salaries that were predicted to be much lower than what they actually are. For example, in the far right of the graph there is a point that represents an actual salary of about \\\\$31 million that was predicted to be just shy of \\\\$15 million.\n",
    "\n",
    "There was also one salary that was predicted to be much higher than it actually was. The point on the top left was predicted to be about \\\\$24 million when it was actually about \\\\$1 million. This is a massive difference."
   ]
  },
  {
   "cell_type": "markdown",
   "metadata": {},
   "source": [
    "### sklearn's Linear Regression model on scaled data"
   ]
  },
  {
   "cell_type": "code",
   "execution_count": 17,
   "metadata": {},
   "outputs": [
    {
     "name": "stdout",
     "output_type": "stream",
     "text": [
      "R^2 (actual and predicted training salaries): 0.6214726671720141\n",
      "R^2 (actual and predicted testing salaries): 0.38929253413436304\n"
     ]
    }
   ],
   "source": [
    "# scale the data\n",
    "scaler = StandardScaler()\n",
    "scaler.fit(X_train)\n",
    "X_train_scaled = scaler.transform(X_train)\n",
    "X_test_scaled = scaler.transform(X_test)\n",
    "\n",
    "# linear regression model\n",
    "lin_reg = LinearRegression(normalize=False, n_jobs=-1)\n",
    "lin_reg.fit(X_train_scaled, y_train)\n",
    "\n",
    "# predicted salaries\n",
    "y_pred_train = lin_reg.predict(X_train_scaled)\n",
    "y_pred_test = lin_reg.predict(X_test_scaled)\n",
    "\n",
    "r_squared_train = r2_score(y_train, y_pred_train)\n",
    "print('R^2 (actual and predicted training salaries):', r_squared_train)\n",
    "\n",
    "r_squared_test = r2_score(y_test, y_pred_test)\n",
    "print('R^2 (actual and predicted testing salaries):', r_squared_test)"
   ]
  },
  {
   "cell_type": "code",
   "execution_count": 18,
   "metadata": {},
   "outputs": [
    {
     "name": "stdout",
     "output_type": "stream",
     "text": [
      "Adjusted R^2 (actual and predicted training data): 0.5610693693803143\n",
      "Adjusted R^2 (actual and predicted testing data): 0.10302340950984568\n"
     ]
    }
   ],
   "source": [
    "# n is the number of labels in the data\n",
    "n_train = len(X_train)\n",
    "n_test = len(X_test)\n",
    "\n",
    "# p is the number of features in the data (both equal)\n",
    "p_train = len(X_train.columns)\n",
    "p_test = len(X_test.columns)\n",
    "\n",
    "# adjusted R^2\n",
    "adj_r_squared_train = adjusted_r2(r_squared_train, n_train, p_train)\n",
    "print('Adjusted R^2 (actual and predicted training data):', adj_r_squared_train)\n",
    "\n",
    "adj_r_squared_test = adjusted_r2(r_squared_test, n_test, p_test)\n",
    "print('Adjusted R^2 (actual and predicted testing data):', adj_r_squared_test)"
   ]
  },
  {
   "cell_type": "code",
   "execution_count": 19,
   "metadata": {},
   "outputs": [
    {
     "name": "stdout",
     "output_type": "stream",
     "text": [
      "Mean absolute error (actual and predicted training salaries): 3993532.9918702412\n",
      "Mean absolute error (actual and predicted testing salaries): 4959487.833597622\n"
     ]
    }
   ],
   "source": [
    "MAE_train = mean_absolute_error(y_train, y_pred_train)\n",
    "print('Mean absolute error (actual and predicted training salaries):', MAE_train)\n",
    "\n",
    "MAE_test = mean_absolute_error(y_test, y_pred_test)\n",
    "print('Mean absolute error (actual and predicted testing salaries):', MAE_test)"
   ]
  },
  {
   "cell_type": "code",
   "execution_count": 20,
   "metadata": {},
   "outputs": [
    {
     "name": "stdout",
     "output_type": "stream",
     "text": [
      "Root mean squared error (actual and predicted training salaries): 5100481.886511694\n",
      "Root mean squared error (actual and predicted testing salaries): 6644895.29370119\n"
     ]
    }
   ],
   "source": [
    "RMSE_train = mean_squared_error(y_train, y_pred_train, squared=False)\n",
    "print('Root mean squared error (actual and predicted training salaries):', RMSE_train)\n",
    "\n",
    "RMSE_test = mean_squared_error(y_test, y_pred_test, squared=False)\n",
    "print('Root mean squared error (actual and predicted testing salaries):', RMSE_test)"
   ]
  },
  {
   "cell_type": "markdown",
   "metadata": {},
   "source": [
    "Scaling the data using StandardScaled before using the same Linear Regression model produced negligible differences in the R^2 metric and the RMSE metric for the test salaries. Every other metric was identical."
   ]
  },
  {
   "cell_type": "markdown",
   "metadata": {},
   "source": [
    "### sklearn's Ridge regression model with scaled data using cross validation"
   ]
  },
  {
   "cell_type": "code",
   "execution_count": 21,
   "metadata": {},
   "outputs": [
    {
     "name": "stdout",
     "output_type": "stream",
     "text": [
      "Best alpha: 13.9\n",
      "R^2 of best alpha: 0.43278602646324843\n"
     ]
    }
   ],
   "source": [
    "# scaling the data\n",
    "scaler = StandardScaler()\n",
    "scaler.fit(X_train)\n",
    "X_train_scaled = scaler.transform(X_train)\n",
    "X_test_scaled = scaler.transform(X_test)\n",
    "\n",
    "# ridge regression model\n",
    "ridge = Ridge()\n",
    "\n",
    "# alpha hyperparameter\n",
    "param_grid = {'alpha':np.arange(0,100,0.1)}\n",
    "ridge_cv = GridSearchCV(ridge, param_grid=param_grid, cv=5, n_jobs=-1)\n",
    "ridge_cv.fit(X_train_scaled, y_train)\n",
    "\n",
    "print('Best alpha:', ridge_cv.best_params_['alpha'])\n",
    "print('R^2 of best alpha:', ridge_cv.best_score_)"
   ]
  },
  {
   "cell_type": "markdown",
   "metadata": {},
   "source": [
    "GridSearchCV determined that the alpha hyperparameter that allowed the ridge regression model to perform the best was alpha=13.9. This model had an R^2 of about 0.433 for the training data. The linear regression model performed better than this model with the training data."
   ]
  },
  {
   "cell_type": "code",
   "execution_count": 22,
   "metadata": {},
   "outputs": [
    {
     "data": {
      "image/png": "[encoded data removed]",
      "text/plain": [
       "<Figure size 432x288 with 1 Axes>"
      ]
     },
     "metadata": {},
     "output_type": "display_data"
    }
   ],
   "source": [
    "ridge = Ridge(alpha=13.9)\n",
    "\n",
    "features = X_train.columns\n",
    "ridge_coef = ridge.fit(X_train_scaled, y_train).coef_\n",
    "\n",
    "plt.plot(range(len(features)), ridge_coef)\n",
    "plt.xticks(range(len(features)), features, rotation=60)\n",
    "plt.ylabel('Coefficients')\n",
    "plt.xlabel('Features')\n",
    "plt.show()"
   ]
  },
  {
   "cell_type": "markdown",
   "metadata": {},
   "source": [
    "The ridge regression model chooses a coefficient for each feature based on how important that feature is. The larger the coefficient, the more important it is. It determined that total rebounds (REB) are the most important feature. This is somewhat surprising but rebounds have always been the most unheralded of the basic statistics. Total assists (AST) are next. Players that distribute the ball very well are typicl=ally compenstated very well. The next important is games played (G). Since it's in the negative that means that as the games played in a season increases, the salary of the player decreases. This makes sense since most of the high salary players are also at least All-star level players which means they tend to take more games off due to \"load management\" or \"injury management\".\n",
    "\n",
    "Interestingly, this model determined that 3-point field goal percentage (3P%) and free throw percentage (FT%) are unimportant enough to get a near-zero coefficient. Given the leagues shift towards a more 3-point centric offense, I would think this would be much higher."
   ]
  },
  {
   "cell_type": "code",
   "execution_count": 23,
   "metadata": {},
   "outputs": [
    {
     "name": "stdout",
     "output_type": "stream",
     "text": [
      "R^2 (actual and predicted testing salaries): 0.4230847569155054\n",
      "\n",
      "Adjusted R^2 (actual and predicted testing data): 0.1526557367196486\n",
      "\n",
      "Mean absolute error (actual and predicted testing salaries): 4715319.277424536\n",
      "\n",
      "Root mean squared error (actual and predicted testing salaries): 6458438.587896661\n"
     ]
    }
   ],
   "source": [
    "ridge.fit(X_train_scaled, y_train)\n",
    "\n",
    "y_pred_test = ridge.predict(X_test_scaled)\n",
    "\n",
    "r_squared_test = r2_score(y_test, y_pred_test)\n",
    "print('R^2 (actual and predicted testing salaries):', r_squared_test)\n",
    "\n",
    "adj_r_squared_test = adjusted_r2(r_squared_test, n_test, p_test)\n",
    "print('\\nAdjusted R^2 (actual and predicted testing data):', adj_r_squared_test)\n",
    "\n",
    "MAE_test = mean_absolute_error(y_test, y_pred_test)\n",
    "print('\\nMean absolute error (actual and predicted testing salaries):', MAE_test)\n",
    "\n",
    "RMSE_test = mean_squared_error(y_test, y_pred_test, squared=False)\n",
    "print('\\nRoot mean squared error (actual and predicted testing salaries):', RMSE_test)"
   ]
  },
  {
   "cell_type": "markdown",
   "metadata": {},
   "source": [
    "The ridge regression model performed a little bit better than the linear regression model. The R^2 and adjusted R^2 for the testing data for the linear regression model was approximately 0.389 and 0.103, respectively. The MAE and RMSE for the testing data for the linear regression model was approximately \\\\$4,959,487.8 and \\\\$6,644,895.3, respectively. There were imporvements for all four of these metrics."
   ]
  },
  {
   "cell_type": "code",
   "execution_count": 24,
   "metadata": {},
   "outputs": [
    {
     "data": {
      "image/png": "[encoded data removed]",
      "text/plain": [
       "<Figure size 432x288 with 1 Axes>"
      ]
     },
     "metadata": {},
     "output_type": "display_data"
    }
   ],
   "source": [
    "plt.scatter(y_test, y_pred_test)\n",
    "plt.xlabel('Actual test salaries')\n",
    "plt.ylabel('Predicted test salaries')\n",
    "plt.show()"
   ]
  },
  {
   "cell_type": "markdown",
   "metadata": {},
   "source": [
    "This scatter plot shows how well the predictions match the actual results for the ridge regression model. The x-axis represents the salaries in the test group while the y-represents the predicted salaries of the test group.\n",
    "\n",
    "Juat as with the linear regression results, there seems to be a positive correlation between the predicted and actual salaries. Also, the points on this plot seems slighlty tighter than the linear regression model which makes since given the better metrics.\n",
    "\n",
    "The far right point that I pointed out in the first graph was predicted to be similar. That salary of about \\\\$31 million that was predicted to be just shy of \\\\$15 million. However, the other point I focused on was the one that was top left most. Where in the previous model that point was predicted to be about \\\\$24 million when it was actually about \\\\$1 million, this model predicted it to be about just under \\\\$20 million. This difference isn't as massive, but still quite significant."
   ]
  },
  {
   "cell_type": "markdown",
   "metadata": {},
   "source": [
    "### sklearn's Lasso regression model with scaled data using cross validation"
   ]
  },
  {
   "cell_type": "code",
   "execution_count": 25,
   "metadata": {},
   "outputs": [
    {
     "name": "stdout",
     "output_type": "stream",
     "text": [
      "Best alpha: 99.9\n",
      "R^2 of best alpha: 0.3745317665440984\n"
     ]
    }
   ],
   "source": [
    "# scaling the data\n",
    "scaler = StandardScaler()\n",
    "scaler.fit(X_train)\n",
    "X_train_scaled = scaler.transform(X_train)\n",
    "X_test_scaled = scaler.transform(X_test)\n",
    "\n",
    "# lasso regression model\n",
    "lasso = Lasso()\n",
    "\n",
    "# alpha hyperparameter\n",
    "param_grid = {'alpha':np.arange(0,100,0.1)}\n",
    "lasso_cv = GridSearchCV(lasso, param_grid=param_grid, cv=5, n_jobs=-1)\n",
    "lasso_cv.fit(X_train_scaled, y_train)\n",
    "\n",
    "print('Best alpha:', lasso_cv.best_params_['alpha'])\n",
    "print('R^2 of best alpha:', lasso_cv.best_score_)"
   ]
  },
  {
   "cell_type": "code",
   "execution_count": 26,
   "metadata": {},
   "outputs": [
    {
     "data": {
      "text/html": [
       "<div>\n",
       "<style scoped>\n",
       "    .dataframe tbody tr th:only-of-type {\n",
       "        vertical-align: middle;\n",
       "    }\n",
       "\n",
       "    .dataframe tbody tr th {\n",
       "        vertical-align: top;\n",
       "    }\n",
       "\n",
       "    .dataframe thead th {\n",
       "        text-align: right;\n",
       "    }\n",
       "</style>\n",
       "<table border=\"1\" class=\"dataframe\">\n",
       "  <thead>\n",
       "    <tr style=\"text-align: right;\">\n",
       "      <th></th>\n",
       "      <th>param_alpha</th>\n",
       "      <th>params</th>\n",
       "      <th>mean_test_score</th>\n",
       "      <th>rank_test_score</th>\n",
       "    </tr>\n",
       "  </thead>\n",
       "  <tbody>\n",
       "    <tr>\n",
       "      <th>995</th>\n",
       "      <td>99.5</td>\n",
       "      <td>{'alpha': 99.5}</td>\n",
       "      <td>0.374531</td>\n",
       "      <td>5</td>\n",
       "    </tr>\n",
       "    <tr>\n",
       "      <th>996</th>\n",
       "      <td>99.6</td>\n",
       "      <td>{'alpha': 99.60000000000001}</td>\n",
       "      <td>0.374531</td>\n",
       "      <td>4</td>\n",
       "    </tr>\n",
       "    <tr>\n",
       "      <th>997</th>\n",
       "      <td>99.7</td>\n",
       "      <td>{'alpha': 99.7}</td>\n",
       "      <td>0.374532</td>\n",
       "      <td>3</td>\n",
       "    </tr>\n",
       "    <tr>\n",
       "      <th>998</th>\n",
       "      <td>99.8</td>\n",
       "      <td>{'alpha': 99.80000000000001}</td>\n",
       "      <td>0.374532</td>\n",
       "      <td>2</td>\n",
       "    </tr>\n",
       "    <tr>\n",
       "      <th>999</th>\n",
       "      <td>99.9</td>\n",
       "      <td>{'alpha': 99.9}</td>\n",
       "      <td>0.374532</td>\n",
       "      <td>1</td>\n",
       "    </tr>\n",
       "  </tbody>\n",
       "</table>\n",
       "</div>"
      ],
      "text/plain": [
       "    param_alpha                        params  mean_test_score  \\\n",
       "995        99.5               {'alpha': 99.5}         0.374531   \n",
       "996        99.6  {'alpha': 99.60000000000001}         0.374531   \n",
       "997        99.7               {'alpha': 99.7}         0.374532   \n",
       "998        99.8  {'alpha': 99.80000000000001}         0.374532   \n",
       "999        99.9               {'alpha': 99.9}         0.374532   \n",
       "\n",
       "     rank_test_score  \n",
       "995                5  \n",
       "996                4  \n",
       "997                3  \n",
       "998                2  \n",
       "999                1  "
      ]
     },
     "execution_count": 26,
     "metadata": {},
     "output_type": "execute_result"
    }
   ],
   "source": [
    "pd.DataFrame(lasso_cv.cv_results_)[['param_alpha', 'params', 'mean_test_score', 'rank_test_score']].tail()"
   ]
  },
  {
   "cell_type": "markdown",
   "metadata": {},
   "source": [
    "GridSearchCV determined that the alpha hyperparameter that allowed the lasso regression model to perform the best was alpha=99.9. This model had an R^2 of about 0.375 for the training data. The alpha was the maximum value of all the possible options I gave it to try. Also the next best 4 scores, which are 99.8, 99.7, 99.6, and 99.5, have virtually identical scores. This seems to suggest that this is about as good as the model will perform no matter what other alpha values I use. That being said, the linear regression model and the ridge regression model both performed better than this model."
   ]
  },
  {
   "cell_type": "code",
   "execution_count": 27,
   "metadata": {},
   "outputs": [
    {
     "data": {
      "image/png": "[encoded data removed]",
      "text/plain": [
       "<Figure size 432x288 with 1 Axes>"
      ]
     },
     "metadata": {},
     "output_type": "display_data"
    }
   ],
   "source": [
    "lasso = Lasso(alpha=99.9)\n",
    "\n",
    "features = X_train.columns\n",
    "lasso_coef = lasso.fit(X_train_scaled, y_train).coef_\n",
    "\n",
    "plt.plot(range(len(features)), lasso_coef)\n",
    "plt.xticks(range(len(features)), features, rotation=60)\n",
    "plt.ylabel('Coefficients')\n",
    "plt.xlabel('Features')\n",
    "plt.show()"
   ]
  },
  {
   "cell_type": "markdown",
   "metadata": {},
   "source": [
    "The lasso model had some different results in terms of determining the importance of each feature. According to this model, player efficiency rating (PER) is the most important feature. This is a way to quantify a player's overall offensive production so this makes sense. The next three most important are total assists (AST), games played (G), and value over replacement player (VORP). All three of these had the same coefficient magnitude but the G and VORP coefficients were negative while the AST coefficient was positive. The most obvious difference between the lasso and ridge coefficients is the one for VORP. The lasso model has a -4 coefficient for VORP but the ridge model had a near-zero coefficient. Typically the best players have a high VORP stat so the coefficients for both of these models is unexpected. Both models, however, agreed on games played. Beyond these observations, both models produced similar coefficients."
   ]
  },
  {
   "cell_type": "code",
   "execution_count": 28,
   "metadata": {},
   "outputs": [
    {
     "name": "stdout",
     "output_type": "stream",
     "text": [
      "R^2 (actual and predicted testing salaries): 0.3893765573278153\n",
      "\n",
      "Adjusted R^2 (actual and predicted testing data): 0.10314681857522867\n",
      "\n",
      "Mean absolute error (actual and predicted testing salaries): 4958987.24138808\n",
      "\n",
      "Root mean squared error (actual and predicted testing salaries): 6644438.1644213535\n"
     ]
    }
   ],
   "source": [
    "lasso.fit(X_train_scaled, y_train)\n",
    "\n",
    "y_pred_test = lasso.predict(X_test_scaled)\n",
    "\n",
    "r_squared_test = r2_score(y_test, y_pred_test)\n",
    "print('R^2 (actual and predicted testing salaries):', r_squared_test)\n",
    "\n",
    "adj_r_squared_test = adjusted_r2(r_squared_test, n_test, p_test)\n",
    "print('\\nAdjusted R^2 (actual and predicted testing data):', adj_r_squared_test)\n",
    "\n",
    "MAE_test = mean_absolute_error(y_test, y_pred_test)\n",
    "print('\\nMean absolute error (actual and predicted testing salaries):', MAE_test)\n",
    "\n",
    "RMSE_test = mean_squared_error(y_test, y_pred_test, squared=False)\n",
    "print('\\nRoot mean squared error (actual and predicted testing salaries):', RMSE_test)"
   ]
  },
  {
   "cell_type": "markdown",
   "metadata": {},
   "source": [
    "Across the board the lasso regression model performed worse than the ridge regression model and only marginally better than the linear regression model."
   ]
  },
  {
   "cell_type": "code",
   "execution_count": 29,
   "metadata": {},
   "outputs": [
    {
     "data": {
      "image/png": "[encoded data removed]",
      "text/plain": [
       "<Figure size 432x288 with 1 Axes>"
      ]
     },
     "metadata": {},
     "output_type": "display_data"
    }
   ],
   "source": [
    "plt.scatter(y_test, y_pred_test)\n",
    "plt.xlabel('Actual test salaries')\n",
    "plt.ylabel('Predicted test salaries')\n",
    "plt.show()"
   ]
  },
  {
   "cell_type": "markdown",
   "metadata": {},
   "source": [
    "The scatter plot for the actual and predicted test salaries is also very similar to the one produced by the linear regression model."
   ]
  },
  {
   "cell_type": "markdown",
   "metadata": {},
   "source": [
    "### sklearn's ElasticNet regression model with scaled data using cross validation"
   ]
  },
  {
   "cell_type": "code",
   "execution_count": 30,
   "metadata": {},
   "outputs": [
    {
     "name": "stdout",
     "output_type": "stream",
     "text": [
      "Best combination of alpha and l1_ratio: {'alpha': 1.6, 'l1_ratio': 0.9}\n",
      "R^2 of best combination: 0.43278377105347204\n"
     ]
    }
   ],
   "source": [
    "# scaling the data\n",
    "scaler = StandardScaler()\n",
    "scaler.fit(X_train)\n",
    "X_train_scaled = scaler.transform(X_train)\n",
    "X_test_scaled = scaler.transform(X_test)\n",
    "\n",
    "# lasso regression model\n",
    "elastic_net = ElasticNet()\n",
    "\n",
    "# alpha hyperparameter\n",
    "param_grid = {'alpha':np.arange(0,100,0.1), 'l1_ratio':np.arange(0,1,0.1)}\n",
    "elastic_net_cv = GridSearchCV(elastic_net, param_grid=param_grid, cv=5, n_jobs=-1)\n",
    "elastic_net_cv.fit(X_train_scaled, y_train)\n",
    "\n",
    "print('Best combination of alpha and l1_ratio:', elastic_net_cv.best_params_)\n",
    "print('R^2 of best combination:', elastic_net_cv.best_score_)"
   ]
  },
  {
   "cell_type": "markdown",
   "metadata": {},
   "source": [
    "The elastic net model had an R^2 for the training data that is negligibly worse than the ridge regression model, which has thus far been the best performing model."
   ]
  },
  {
   "cell_type": "code",
   "execution_count": 31,
   "metadata": {},
   "outputs": [
    {
     "name": "stdout",
     "output_type": "stream",
     "text": [
      "R^2 (actual and predicted testing salaries): 0.4226972406137045\n",
      "\n",
      "Adjusted R^2 (actual and predicted testing data): 0.15208657215137844\n",
      "\n",
      "Mean absolute error (actual and predicted testing salaries): 4710168.546731311\n",
      "\n",
      "Root mean squared error (actual and predicted testing salaries): 6460607.30343262\n"
     ]
    }
   ],
   "source": [
    "elastic_net = ElasticNet(alpha=1.6, l1_ratio=0.9)\n",
    "elastic_net.fit(X_train_scaled, y_train)\n",
    "\n",
    "y_pred_test = elastic_net.predict(X_test_scaled)\n",
    "\n",
    "r_squared_test = r2_score(y_test, y_pred_test)\n",
    "print('R^2 (actual and predicted testing salaries):', r_squared_test)\n",
    "\n",
    "adj_r_squared_test = adjusted_r2(r_squared_test, n_test, p_test)\n",
    "print('\\nAdjusted R^2 (actual and predicted testing data):', adj_r_squared_test)\n",
    "\n",
    "MAE_test = mean_absolute_error(y_test, y_pred_test)\n",
    "print('\\nMean absolute error (actual and predicted testing salaries):', MAE_test)\n",
    "\n",
    "RMSE_test = mean_squared_error(y_test, y_pred_test, squared=False)\n",
    "print('\\nRoot mean squared error (actual and predicted testing salaries):', RMSE_test)"
   ]
  },
  {
   "cell_type": "markdown",
   "metadata": {},
   "source": [
    "Just as for the R^2 for the training data, the metrics for the testing data were also very close. The R^2, adjusted R^2, and the RMSE for the elastic net model were only slighly worse. It's MAE was better but again the difference wasn't by much."
   ]
  },
  {
   "cell_type": "markdown",
   "metadata": {},
   "source": [
    "# Final model selection"
   ]
  },
  {
   "cell_type": "markdown",
   "metadata": {},
   "source": [
    "**metrics** | Linear regression | Ridge regression | Lasso regression | ElasticNet regression\n",
    ":-----------|:-----------------:|:----------------:|:----------------:|:--------------------:\n",
    "**R^2 (train)** | 0.6214726671720141 | 0.43278602646324843 | 0.3745317665440984 | 0.43278377105347204\n",
    "**R^2 (test)** | 0.38929253413435605 | 0.4230847569155054 | 0.3893765573278153 | 0.4226972406137045\n",
    "**Adjusted R^2 (test)** | 0.10302340950983546 | 0.1526557367196486 | 0.10314681857522867 | 0.15208657215137844\n",
    "**Mean absolute error (test)** | 4959487.833597653 | 4715319.277424536 | 4958987.24138808 | 4710168.546731311\n",
    "**Root mean squared error (test)** | 6644895.293701228 | 6458438.587896661 | 6644438.1644213535 | 6460607.30343262"
   ]
  },
  {
   "cell_type": "markdown",
   "metadata": {},
   "source": [
    "The two best performing models were the ridge regression model and the elastic net regression model. However, the ridge regression model had slighly better metrics so this will be the model I select."
   ]
  },
  {
   "cell_type": "markdown",
   "metadata": {},
   "source": [
    "# Saving the best model"
   ]
  },
  {
   "cell_type": "code",
   "execution_count": 32,
   "metadata": {},
   "outputs": [
    {
     "data": {
      "text/plain": [
       "0.4230847569155054"
      ]
     },
     "execution_count": 32,
     "metadata": {},
     "output_type": "execute_result"
    }
   ],
   "source": [
    "pipeline = Pipeline([('scaler', StandardScaler()),('ridge', Ridge(alpha=13.9))])\n",
    "pipeline.fit(X_train, y_train)\n",
    "\n",
    "pipeline.score(X_test, y_test)"
   ]
  },
  {
   "cell_type": "markdown",
   "metadata": {},
   "source": [
    "This confirms that the pipeline produced the same results as the ridge regression model created earlier in this notebook."
   ]
  },
  {
   "cell_type": "code",
   "execution_count": 33,
   "metadata": {},
   "outputs": [],
   "source": [
    "best_model = pipeline\n",
    "best_model.version = '1.0'\n",
    "best_model.pandas_version = pd.__version__\n",
    "best_model.numpy_version = np.__version__\n",
    "best_model.sklearn_version = sklearn_version\n",
    "best_model.X_columns = [col for col in X_train.columns]\n",
    "best_model.build_datetime = datetime.datetime.now()\n",
    "\n",
    "with open('../models/nba_contract_model.pkl', 'wb') as handle:\n",
    "    pickle.dump(best_model, handle, protocol=pickle.HIGHEST_PROTOCOL)"
   ]
  }
 ],
 "metadata": {
  "kernelspec": {
   "display_name": "Python 3",
   "language": "python",
   "name": "python3"
  },
  "language_info": {
   "codemirror_mode": {
    "name": "ipython",
    "version": 3
   },
   "file_extension": ".py",
   "mimetype": "text/x-python",
   "name": "python",
   "nbconvert_exporter": "python",
   "pygments_lexer": "ipython3",
   "version": "3.8.5"
  }
 },
 "nbformat": 4,
 "nbformat_minor": 4
}
